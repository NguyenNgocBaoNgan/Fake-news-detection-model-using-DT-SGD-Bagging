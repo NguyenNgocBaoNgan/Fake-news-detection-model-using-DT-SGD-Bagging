{
  "cells": [
    {
      "cell_type": "markdown",
      "metadata": {
        "id": "view-in-github",
        "colab_type": "text"
      },
      "source": [
        "<a href=\"https://colab.research.google.com/github/NguyenNgocBaoNgan/Fake-news-detection-model-using-DT-SGD-Bagging/blob/main/Fake_news_detection_model.ipynb\" target=\"_parent\"><img src=\"https://colab.research.google.com/assets/colab-badge.svg\" alt=\"Open In Colab\"/></a>"
      ]
    },
    {
      "cell_type": "code",
      "execution_count": null,
      "metadata": {
        "colab": {
          "base_uri": "https://localhost:8080/"
        },
        "id": "jrT5wEJkjq0Z",
        "outputId": "3ef3f34c-de89-43fe-9d6c-0bb230ad3a9c"
      },
      "outputs": [
        {
          "output_type": "stream",
          "name": "stdout",
          "text": [
            "Mounted at /content/gdrive\n",
            "/content/gdrive/MyDrive/Tiểu luận 2024\n"
          ]
        }
      ],
      "source": [
        "#tải dữ liệu\n",
        "from google.colab import drive\n",
        "drive.mount('/content/gdrive')\n",
        "%cd '/content/gdrive/MyDrive/Tiểu luận 2024'"
      ]
    },
    {
      "cell_type": "code",
      "execution_count": null,
      "metadata": {
        "id": "v0b5j5V1gSS7"
      },
      "outputs": [],
      "source": [
        "import pandas as pd\n",
        "import numpy as np\n",
        "from sklearn.impute import SimpleImputer\n",
        "from sklearn.model_selection import RandomizedSearchCV, train_test_split\n",
        "from sklearn import metrics\n",
        "from sklearn.metrics import accuracy_score, precision_score, recall_score, f1_score\n",
        "from prettytable import PrettyTable\n",
        "from sklearn import metrics\n",
        "import matplotlib.pyplot as plt\n",
        "from sklearn import model_selection\n",
        "from sklearn import tree\n",
        "import re\n",
        "import nltk\n",
        "from nltk.corpus import stopwords\n",
        "from nltk.stem import PorterStemmer\n",
        "from collections import Counter\n",
        "from sklearn.feature_extraction.text import TfidfVectorizer\n",
        "from sklearn.preprocessing import StandardScaler\n",
        "from sklearn.linear_model import SGDClassifier\n",
        "from sklearn.model_selection import GridSearchCV\n",
        "from sklearn.ensemble import BaggingClassifier\n",
        "from scipy.stats import randint\n"
      ]
    },
    {
      "cell_type": "markdown",
      "source": [
        "**Dataset Link**\n",
        "1.   BuzzFeed Political News Data set và Random Political News Data set [link](https://github.com/BenjaminDHorne/fakenewsdata1)\n",
        "2.   Random Political News Data set [link](https://www.kaggle.com/datasets/csmalarkodi/isot-fake-news-dataset)\n",
        "\n"
      ],
      "metadata": {
        "id": "hzCPy-ECgHeP"
      }
    },
    {
      "cell_type": "code",
      "execution_count": null,
      "metadata": {
        "id": "dBhFKCLMxIfR"
      },
      "outputs": [],
      "source": [
        "data = pd.read_csv(\"BuzzFeed Political News Data set.csv\",na_values='?',names =['Content','Label'])\n",
        "data1 = pd.read_csv(\"Random Political News Data set.csv\",na_values='?',names =['Content','Label'],sep=\",\", encoding='cp1252')\n",
        "# load csv IOST files to dataframes\n",
        "fake_df= pd.read_csv('ISOT Fake News Data set/Fake.csv')\n",
        "real_df= pd.read_csv('ISOT Fake News Data set/True.csv')\n"
      ]
    },
    {
      "cell_type": "code",
      "execution_count": null,
      "metadata": {
        "colab": {
          "base_uri": "https://localhost:8080/"
        },
        "id": "uvPIUFRweQFD",
        "outputId": "edb2c2bb-5230-4c26-ddba-c9563e6fe426"
      },
      "outputs": [
        {
          "output_type": "stream",
          "name": "stdout",
          "text": [
            "                                               Content  Label\n",
            "0    A quick trip down memory lane causes a stumble...      0\n",
            "1    Donald Trump was promised a smooth and respect...      0\n",
            "2    Turkey’s President Recep Erdogan has come out ...      0\n",
            "3    On Tuesday, the Times of Israel reported that ...      0\n",
            "4    Since 2008 Obama and Democrats lost white work...      0\n",
            "..                                                 ...    ...\n",
            "145  As he traveled the country on his thank you to...      1\n",
            "146  A federal judge in New York has unsealed the s...      1\n",
            "147  On Sunday evening, Donald Trump invited report...      1\n",
            "148  WASHINGTON -- Allegations of retaliation again...      1\n",
            "149  A group of millennial activists from across th...      1\n",
            "\n",
            "[150 rows x 2 columns]\n"
          ]
        }
      ],
      "source": [
        "# Thay đổi các giá trị 'Fake' thành 0 và 'Real' thành 1 trong cột 'Label'\n",
        "data['Label'] = data['Label'].replace({'Fake': 0, 'Real': 1})\n",
        "# In ra dữ liệu sau khi thay đổi\n",
        "data1['Label'] = data1['Label'].replace({'Fake': 0, 'Real': 1})\n",
        "# In ra dữ liệu sau khi thay đổi\n",
        "print(data1)"
      ]
    },
    {
      "cell_type": "code",
      "execution_count": null,
      "metadata": {
        "colab": {
          "base_uri": "https://localhost:8080/",
          "height": 363
        },
        "id": "YHdxco0brNjc",
        "outputId": "a7f58d02-9a72-4988-c238-8e6f3241869f"
      },
      "outputs": [
        {
          "output_type": "execute_result",
          "data": {
            "text/plain": [
              "                                               title  \\\n",
              "0   Donald Trump Sends Out Embarrassing New Year’...   \n",
              "1   Drunk Bragging Trump Staffer Started Russian ...   \n",
              "2   Sheriff David Clarke Becomes An Internet Joke...   \n",
              "3   Trump Is So Obsessed He Even Has Obama’s Name...   \n",
              "4   Pope Francis Just Called Out Donald Trump Dur...   \n",
              "5   Racist Alabama Cops Brutalize Black Boy While...   \n",
              "6   Fresh Off The Golf Course, Trump Lashes Out A...   \n",
              "7   Trump Said Some INSANELY Racist Stuff Inside ...   \n",
              "8   Former CIA Director Slams Trump Over UN Bully...   \n",
              "9   WATCH: Brand-New Pro-Trump Ad Features So Muc...   \n",
              "\n",
              "                                                text  Label  \n",
              "0  Donald Trump just couldn t wish all Americans ...      0  \n",
              "1  House Intelligence Committee Chairman Devin Nu...      0  \n",
              "2  On Friday, it was revealed that former Milwauk...      0  \n",
              "3  On Christmas day, Donald Trump announced that ...      0  \n",
              "4  Pope Francis used his annual Christmas Day mes...      0  \n",
              "5  The number of cases of cops brutalizing and ki...      0  \n",
              "6  Donald Trump spent a good portion of his day a...      0  \n",
              "7  In the wake of yet another court decision that...      0  \n",
              "8  Many people have raised the alarm regarding th...      0  \n",
              "9  Just when you might have thought we d get a br...      0  "
            ],
            "text/html": [
              "\n",
              "  <div id=\"df-0adf468c-0828-4680-960c-73613cc0b2c1\" class=\"colab-df-container\">\n",
              "    <div>\n",
              "<style scoped>\n",
              "    .dataframe tbody tr th:only-of-type {\n",
              "        vertical-align: middle;\n",
              "    }\n",
              "\n",
              "    .dataframe tbody tr th {\n",
              "        vertical-align: top;\n",
              "    }\n",
              "\n",
              "    .dataframe thead th {\n",
              "        text-align: right;\n",
              "    }\n",
              "</style>\n",
              "<table border=\"1\" class=\"dataframe\">\n",
              "  <thead>\n",
              "    <tr style=\"text-align: right;\">\n",
              "      <th></th>\n",
              "      <th>title</th>\n",
              "      <th>text</th>\n",
              "      <th>Label</th>\n",
              "    </tr>\n",
              "  </thead>\n",
              "  <tbody>\n",
              "    <tr>\n",
              "      <th>0</th>\n",
              "      <td>Donald Trump Sends Out Embarrassing New Year’...</td>\n",
              "      <td>Donald Trump just couldn t wish all Americans ...</td>\n",
              "      <td>0</td>\n",
              "    </tr>\n",
              "    <tr>\n",
              "      <th>1</th>\n",
              "      <td>Drunk Bragging Trump Staffer Started Russian ...</td>\n",
              "      <td>House Intelligence Committee Chairman Devin Nu...</td>\n",
              "      <td>0</td>\n",
              "    </tr>\n",
              "    <tr>\n",
              "      <th>2</th>\n",
              "      <td>Sheriff David Clarke Becomes An Internet Joke...</td>\n",
              "      <td>On Friday, it was revealed that former Milwauk...</td>\n",
              "      <td>0</td>\n",
              "    </tr>\n",
              "    <tr>\n",
              "      <th>3</th>\n",
              "      <td>Trump Is So Obsessed He Even Has Obama’s Name...</td>\n",
              "      <td>On Christmas day, Donald Trump announced that ...</td>\n",
              "      <td>0</td>\n",
              "    </tr>\n",
              "    <tr>\n",
              "      <th>4</th>\n",
              "      <td>Pope Francis Just Called Out Donald Trump Dur...</td>\n",
              "      <td>Pope Francis used his annual Christmas Day mes...</td>\n",
              "      <td>0</td>\n",
              "    </tr>\n",
              "    <tr>\n",
              "      <th>5</th>\n",
              "      <td>Racist Alabama Cops Brutalize Black Boy While...</td>\n",
              "      <td>The number of cases of cops brutalizing and ki...</td>\n",
              "      <td>0</td>\n",
              "    </tr>\n",
              "    <tr>\n",
              "      <th>6</th>\n",
              "      <td>Fresh Off The Golf Course, Trump Lashes Out A...</td>\n",
              "      <td>Donald Trump spent a good portion of his day a...</td>\n",
              "      <td>0</td>\n",
              "    </tr>\n",
              "    <tr>\n",
              "      <th>7</th>\n",
              "      <td>Trump Said Some INSANELY Racist Stuff Inside ...</td>\n",
              "      <td>In the wake of yet another court decision that...</td>\n",
              "      <td>0</td>\n",
              "    </tr>\n",
              "    <tr>\n",
              "      <th>8</th>\n",
              "      <td>Former CIA Director Slams Trump Over UN Bully...</td>\n",
              "      <td>Many people have raised the alarm regarding th...</td>\n",
              "      <td>0</td>\n",
              "    </tr>\n",
              "    <tr>\n",
              "      <th>9</th>\n",
              "      <td>WATCH: Brand-New Pro-Trump Ad Features So Muc...</td>\n",
              "      <td>Just when you might have thought we d get a br...</td>\n",
              "      <td>0</td>\n",
              "    </tr>\n",
              "  </tbody>\n",
              "</table>\n",
              "</div>\n",
              "    <div class=\"colab-df-buttons\">\n",
              "\n",
              "  <div class=\"colab-df-container\">\n",
              "    <button class=\"colab-df-convert\" onclick=\"convertToInteractive('df-0adf468c-0828-4680-960c-73613cc0b2c1')\"\n",
              "            title=\"Convert this dataframe to an interactive table.\"\n",
              "            style=\"display:none;\">\n",
              "\n",
              "  <svg xmlns=\"http://www.w3.org/2000/svg\" height=\"24px\" viewBox=\"0 -960 960 960\">\n",
              "    <path d=\"M120-120v-720h720v720H120Zm60-500h600v-160H180v160Zm220 220h160v-160H400v160Zm0 220h160v-160H400v160ZM180-400h160v-160H180v160Zm440 0h160v-160H620v160ZM180-180h160v-160H180v160Zm440 0h160v-160H620v160Z\"/>\n",
              "  </svg>\n",
              "    </button>\n",
              "\n",
              "  <style>\n",
              "    .colab-df-container {\n",
              "      display:flex;\n",
              "      gap: 12px;\n",
              "    }\n",
              "\n",
              "    .colab-df-convert {\n",
              "      background-color: #E8F0FE;\n",
              "      border: none;\n",
              "      border-radius: 50%;\n",
              "      cursor: pointer;\n",
              "      display: none;\n",
              "      fill: #1967D2;\n",
              "      height: 32px;\n",
              "      padding: 0 0 0 0;\n",
              "      width: 32px;\n",
              "    }\n",
              "\n",
              "    .colab-df-convert:hover {\n",
              "      background-color: #E2EBFA;\n",
              "      box-shadow: 0px 1px 2px rgba(60, 64, 67, 0.3), 0px 1px 3px 1px rgba(60, 64, 67, 0.15);\n",
              "      fill: #174EA6;\n",
              "    }\n",
              "\n",
              "    .colab-df-buttons div {\n",
              "      margin-bottom: 4px;\n",
              "    }\n",
              "\n",
              "    [theme=dark] .colab-df-convert {\n",
              "      background-color: #3B4455;\n",
              "      fill: #D2E3FC;\n",
              "    }\n",
              "\n",
              "    [theme=dark] .colab-df-convert:hover {\n",
              "      background-color: #434B5C;\n",
              "      box-shadow: 0px 1px 3px 1px rgba(0, 0, 0, 0.15);\n",
              "      filter: drop-shadow(0px 1px 2px rgba(0, 0, 0, 0.3));\n",
              "      fill: #FFFFFF;\n",
              "    }\n",
              "  </style>\n",
              "\n",
              "    <script>\n",
              "      const buttonEl =\n",
              "        document.querySelector('#df-0adf468c-0828-4680-960c-73613cc0b2c1 button.colab-df-convert');\n",
              "      buttonEl.style.display =\n",
              "        google.colab.kernel.accessAllowed ? 'block' : 'none';\n",
              "\n",
              "      async function convertToInteractive(key) {\n",
              "        const element = document.querySelector('#df-0adf468c-0828-4680-960c-73613cc0b2c1');\n",
              "        const dataTable =\n",
              "          await google.colab.kernel.invokeFunction('convertToInteractive',\n",
              "                                                    [key], {});\n",
              "        if (!dataTable) return;\n",
              "\n",
              "        const docLinkHtml = 'Like what you see? Visit the ' +\n",
              "          '<a target=\"_blank\" href=https://colab.research.google.com/notebooks/data_table.ipynb>data table notebook</a>'\n",
              "          + ' to learn more about interactive tables.';\n",
              "        element.innerHTML = '';\n",
              "        dataTable['output_type'] = 'display_data';\n",
              "        await google.colab.output.renderOutput(dataTable, element);\n",
              "        const docLink = document.createElement('div');\n",
              "        docLink.innerHTML = docLinkHtml;\n",
              "        element.appendChild(docLink);\n",
              "      }\n",
              "    </script>\n",
              "  </div>\n",
              "\n",
              "\n",
              "<div id=\"df-b0d2f753-fceb-4c42-bb5f-89167de94784\">\n",
              "  <button class=\"colab-df-quickchart\" onclick=\"quickchart('df-b0d2f753-fceb-4c42-bb5f-89167de94784')\"\n",
              "            title=\"Suggest charts\"\n",
              "            style=\"display:none;\">\n",
              "\n",
              "<svg xmlns=\"http://www.w3.org/2000/svg\" height=\"24px\"viewBox=\"0 0 24 24\"\n",
              "     width=\"24px\">\n",
              "    <g>\n",
              "        <path d=\"M19 3H5c-1.1 0-2 .9-2 2v14c0 1.1.9 2 2 2h14c1.1 0 2-.9 2-2V5c0-1.1-.9-2-2-2zM9 17H7v-7h2v7zm4 0h-2V7h2v10zm4 0h-2v-4h2v4z\"/>\n",
              "    </g>\n",
              "</svg>\n",
              "  </button>\n",
              "\n",
              "<style>\n",
              "  .colab-df-quickchart {\n",
              "      --bg-color: #E8F0FE;\n",
              "      --fill-color: #1967D2;\n",
              "      --hover-bg-color: #E2EBFA;\n",
              "      --hover-fill-color: #174EA6;\n",
              "      --disabled-fill-color: #AAA;\n",
              "      --disabled-bg-color: #DDD;\n",
              "  }\n",
              "\n",
              "  [theme=dark] .colab-df-quickchart {\n",
              "      --bg-color: #3B4455;\n",
              "      --fill-color: #D2E3FC;\n",
              "      --hover-bg-color: #434B5C;\n",
              "      --hover-fill-color: #FFFFFF;\n",
              "      --disabled-bg-color: #3B4455;\n",
              "      --disabled-fill-color: #666;\n",
              "  }\n",
              "\n",
              "  .colab-df-quickchart {\n",
              "    background-color: var(--bg-color);\n",
              "    border: none;\n",
              "    border-radius: 50%;\n",
              "    cursor: pointer;\n",
              "    display: none;\n",
              "    fill: var(--fill-color);\n",
              "    height: 32px;\n",
              "    padding: 0;\n",
              "    width: 32px;\n",
              "  }\n",
              "\n",
              "  .colab-df-quickchart:hover {\n",
              "    background-color: var(--hover-bg-color);\n",
              "    box-shadow: 0 1px 2px rgba(60, 64, 67, 0.3), 0 1px 3px 1px rgba(60, 64, 67, 0.15);\n",
              "    fill: var(--button-hover-fill-color);\n",
              "  }\n",
              "\n",
              "  .colab-df-quickchart-complete:disabled,\n",
              "  .colab-df-quickchart-complete:disabled:hover {\n",
              "    background-color: var(--disabled-bg-color);\n",
              "    fill: var(--disabled-fill-color);\n",
              "    box-shadow: none;\n",
              "  }\n",
              "\n",
              "  .colab-df-spinner {\n",
              "    border: 2px solid var(--fill-color);\n",
              "    border-color: transparent;\n",
              "    border-bottom-color: var(--fill-color);\n",
              "    animation:\n",
              "      spin 1s steps(1) infinite;\n",
              "  }\n",
              "\n",
              "  @keyframes spin {\n",
              "    0% {\n",
              "      border-color: transparent;\n",
              "      border-bottom-color: var(--fill-color);\n",
              "      border-left-color: var(--fill-color);\n",
              "    }\n",
              "    20% {\n",
              "      border-color: transparent;\n",
              "      border-left-color: var(--fill-color);\n",
              "      border-top-color: var(--fill-color);\n",
              "    }\n",
              "    30% {\n",
              "      border-color: transparent;\n",
              "      border-left-color: var(--fill-color);\n",
              "      border-top-color: var(--fill-color);\n",
              "      border-right-color: var(--fill-color);\n",
              "    }\n",
              "    40% {\n",
              "      border-color: transparent;\n",
              "      border-right-color: var(--fill-color);\n",
              "      border-top-color: var(--fill-color);\n",
              "    }\n",
              "    60% {\n",
              "      border-color: transparent;\n",
              "      border-right-color: var(--fill-color);\n",
              "    }\n",
              "    80% {\n",
              "      border-color: transparent;\n",
              "      border-right-color: var(--fill-color);\n",
              "      border-bottom-color: var(--fill-color);\n",
              "    }\n",
              "    90% {\n",
              "      border-color: transparent;\n",
              "      border-bottom-color: var(--fill-color);\n",
              "    }\n",
              "  }\n",
              "</style>\n",
              "\n",
              "  <script>\n",
              "    async function quickchart(key) {\n",
              "      const quickchartButtonEl =\n",
              "        document.querySelector('#' + key + ' button');\n",
              "      quickchartButtonEl.disabled = true;  // To prevent multiple clicks.\n",
              "      quickchartButtonEl.classList.add('colab-df-spinner');\n",
              "      try {\n",
              "        const charts = await google.colab.kernel.invokeFunction(\n",
              "            'suggestCharts', [key], {});\n",
              "      } catch (error) {\n",
              "        console.error('Error during call to suggestCharts:', error);\n",
              "      }\n",
              "      quickchartButtonEl.classList.remove('colab-df-spinner');\n",
              "      quickchartButtonEl.classList.add('colab-df-quickchart-complete');\n",
              "    }\n",
              "    (() => {\n",
              "      let quickchartButtonEl =\n",
              "        document.querySelector('#df-b0d2f753-fceb-4c42-bb5f-89167de94784 button');\n",
              "      quickchartButtonEl.style.display =\n",
              "        google.colab.kernel.accessAllowed ? 'block' : 'none';\n",
              "    })();\n",
              "  </script>\n",
              "</div>\n",
              "\n",
              "    </div>\n",
              "  </div>\n"
            ],
            "application/vnd.google.colaboratory.intrinsic+json": {
              "type": "dataframe",
              "variable_name": "data2",
              "summary": "{\n  \"name\": \"data2\",\n  \"rows\": 44898,\n  \"fields\": [\n    {\n      \"column\": \"title\",\n      \"properties\": {\n        \"dtype\": \"string\",\n        \"num_unique_values\": 38729,\n        \"samples\": [\n          \"Supreme Court Justice Ginsburg 'regrets' Trump criticisms\",\n          \" DOZENS Of GOP Foreign Policy Experts Pledge To Stop Trump From Winning Nomination\",\n          \" REPORT: Trump Laughed After Woman Was Grabbed \\u2018By The P*ssy\\u2019 On Apprentice Set\"\n        ],\n        \"semantic_type\": \"\",\n        \"description\": \"\"\n      }\n    },\n    {\n      \"column\": \"text\",\n      \"properties\": {\n        \"dtype\": \"string\",\n        \"num_unique_values\": 38646,\n        \"samples\": [\n          \" (This September 29 has been corrected to fix date of election in paragraph 3) NAIROBI (Reuters) - A Kenyan government watchdog said on Friday it was investigating whether police had assaulted students during protests this week at the University of Nairobi over the detention of an opposition lawmaker.   Police fired tear gas on Thursday at the protesting students. Video footage posted on social media later in the day showed uniformed officers outside dormitories and inside classrooms using batons to hit people who did not appear to be involved in the campus protests.  It was the latest crackdown by police on protests since an Aug. 8 presidential election that was later annulled by the Supreme Court. A re-run of the vote has been set for Oct. 26. The Independent Police Oversight Authority (IPOA)  this morning noted from social media reports of an incident in which members of the National Police Service allegedly stormed the University of Nairobi and assaulted students at the institution,  the authority said on its Twitter feed.  It requested that any member of the public come forward to provide information to aid the investigation.  The students had been protesting against the re-arrest of a lawmaker, Paul Ongili Owino, on Wednesday, shortly after he was released on bail on charges of subversion for calling President Uhuru Kenyatta a  son of a dog  at a campaign rally. Kenya is a key Western ally in a region often roiled by violence. Preparations for the re-run of the election are being closely monitored for signs of instability, after at least 28 people were killed in unrest following the Aug. 8 vote. The IPOA watchdog was created in 2011, after police came under severe criticism for the number of protesters killed during demonstrations against disputed elections in 2007. The violence then killed around 1,2000 people. But local and international rights groups say the institution is struggling to fulfill its mandate to investigate allegations of police brutality in a country rife with reports from civilians of extrajudicial killings by security forces.  The IPOA has secured two convictions of police officers in the four years it has been operational. The watchdog pledged last month to fast-track investigations into high-profile deaths such as that of a baby allegedly killed by police in the violence after the election. [L4N1L34FC] But people familiar with the status of these investigations say the police are not cooperating with them, and that senior officials in the police force and the interior ministry insist officers killed only thieves and thugs. \",\n          \"WASHINGTON/CAIRO (Reuters) - Five Iraqi passengers and one Yemeni were barred from boarding an EgyptAir flight from Cairo to New York on Saturday after President Donald Trump halted the entry of citizens from seven Muslim-majority countries, sources at Cairo airport said. The passengers, arriving in transit to Cairo airport, were stopped and re-directed to flights headed for their home countries despite holding valid visas, the sources said.  Trump on Friday put a four-month hold on allowing refugees into the United States and temporarily barred travelers from Syria and six other Muslim-majority countries, saying the moves would help protect Americans from terrorist attacks. He said his most sweeping use of his presidential powers since taking office a week ago, barring travelers from the seven nations for at least 90 days, would give his administration time to develop more stringent screening procedures for refugees, immigrants and visitors. \\u201cI\\u2019m establishing new vetting measures to keep radical Islamic terrorists out of the United States of America. Don\\u2019t want them here,\\u201d Trump said earlier on Friday at the Pentagon. \\u201cWe only want to admit those into our country who will support our country and love deeply our people,\\u201d he said. The bans, though temporary, took effect immediately, causing havoc and confusion for would-be travelers with passports from Iran, Iraq, Libya, Somalia, Sudan, Syria and Yemen. Besides Cairo it was not immediately clear whether other  airports of countries listed by Trump had swiftly implemented the ban. Arab officials of the listed countries would not comment on the matter. The order seeks to prioritize refugees fleeing religious persecution, a move Trump separately said was aimed at helping Christians in Syria. That led some legal experts to question whether the order was constitutional. One group said it would announce a court challenge on Monday. The Council on American-Islamic Relations said the order targets Muslims because of their faith, contravening the U.S. Constitutional right to freedom of religion. \\u201cPresident Trump has cloaked what is a discriminatory ban against nationals of Muslim countries under the banner of national security,\\u201d said Greg Chen of the American Immigration Lawyers Association.  Trump has long pledged to take this kind of action, making it a prominent feature of his campaign for the Nov. 8 election. But people who work with Muslim immigrants and refugees were scrambling to determine the scope of the order. Even legal permanent residents - people with \\u201cgreen cards\\u201d allowing them to live and work in the United States - were being advised to consult immigration lawyers before traveling outside the country, or trying to return, according to Muslim Advocates, a civil rights group in Washington.  On Friday evening, Abed Ayoub of the American-Arab Anti-Discrimination Committee said he had fielded about 100 queries from people anxious about the order, which he said he believed could affect traveling green card holders, students, people coming to the United States for medical care and others. \\u201cIt\\u2019s chaos,\\u201d Ayoub said. During his campaign, Trump tapped into American fears about Islamic State militants and the flood of migrants into Europe from Syria\\u2019s civil war, saying refugees could be a \\u201cTrojan horse\\u201d that allowed attackers to enter the United States. In December 2015, he called for a ban on all Muslims entering the United States, drawing fire for suggesting a religious test for immigrants that critics said would violate the U.S. Constitution. His idea later evolved into a proposal for \\u201cextreme vetting.\\u201d  Trump\\u2019s order also suspends the Syrian refugee program until further notice, and will eventually give priority to minority religious groups fleeing persecution.  Trump said in an interview with the Christian Broadcasting Network that the exception would help Syrian Christians fleeing the civil war there. Legal experts were divided on whether this order would be constitutional. \\u201cIf they are thinking about an exception for Christians, in almost any other legal context discriminating in favor of one religion and against another religion could violate the constitution,\\u201d said Stephen Legomsky, a former chief counsel at U.S. Citizenship and Immigration Services in the Obama administration. But Peter Spiro, a professor at Temple University Beasley School of Law, said Trump\\u2019s action would likely be constitutional because the president and Congress are allowed considerable deference when it comes to asylum decisions. \\u201cIt\\u2019s a completely plausible prioritization, to the extent this group is actually being persecuted,\\u201d Spiro said. The order may also affect special refugee programs for Iraqis who worked for the U.S. government as translators after the 2003 invasion of Iraq. It is already affecting refugees and their families, said Jen Smyers of the Church World Service, a Protestant faith-based group that works with migrants. Smyers said she spoke to an Iraqi mother whose twin daughters remain in Iraq due to processing delays. \\u201cThose two 18-year-old daughters won\\u2019t be able to join their mother in the U.S.,\\u201d she said. Democrats on Friday were quick to condemn Trump\\u2019s order as un-American, saying it would tarnish the reputation of the United States as a land that welcomes immigrants. \\u201cToday\\u2019s executive order from President Trump is more about extreme xenophobia than extreme vetting,\\u201d said Democratic Senator Edward Markey in a statement. Some Republicans praised the move. Representative Bob Goodlatte, chairman of the House of Representatives Judiciary Committee, said Islamic State has threatened to use the U.S. immigration system, making it important to do more screening. \\u201cI am pleased that President Trump is using the tools granted to him by Congress and the power granted by the Constitution to help keep America safe and ensure we know who is entering the United States,\\u201d Goodlatte said in a statement. Without naming Trump, Iranian President Hassan Rouhani said on Saturday it was no time to build walls between nations and criticized steps towards cancelling world trade agreements. Trump on Wednesday ordered the construction of a U.S.-Mexican border wall, a major promise during his election campaign, as part of a package of measures to curb illegal immigration. \\u201cToday is not the time to erect walls between nations. They have forgotten that the Berlin wall fell years ago,\\u201d Rouhani said in a speech carried live on Iranian state television. He made no direct reference to Trump\\u2019s order regarding refugees and travelers from the seven mainly Muslim states. Rouhani, a pragmatist elected in 2013, thawed Iran\\u2019s relations with world powers after years of confrontation and engineered its 2015 deal with them under which it curbed its nuclear program in exchange for relief from sanctions. Rouhani said earlier this month that Trump could not unilaterally cancel the nuclear deal and that talk of renegotiating it was \\u201cmeaningless\\u201d. France and Germany voiced disquiet on Saturday over Trump\\u2019s new restrictions on immigration. \\u201cWelcoming refugees who flee war and oppression is part of our duty,\\u201d French Foreign Minister Jean-Marc Ayrault said at a joint news conference with German counterpart Sigmar Gabriel. \\u201cThe United States is a country where Christian traditions have an important meaning. Loving your neighbor is a major Christian value, and that includes helping people,\\u201d said  Gabriel. \\u201cI think that is what unites us in the West, and I think that is what we want to make clear to the Americans.\\u201d \",\n          \"PRISTINA (Reuters) - Kosovo s center-right coalition led by the Democratic Party of Kosovo signed a deal on Monday with the small New Alliance for Kosovo party to form a government, ending nearly three months of political deadlock after an election on June 11.      Finally Kosovo has started to move ... we had some big delays and our institutions now will be formed,  said Ramush Haradinaj, from the center-right coalition of parties made up of former guerrillas who fought the 1998-99 war against Serb forces. Under the deal, the parties along with ethnic minorities will secure 63 seats in the 120-seat parliament.  President Hashim Thaci is expected to give Haradinaj a mandate to form the government within days. A source who asked not to be named told Reuters the parliament session to elect the parliament speaker would be held this week. Haradinaj, who twice stood trial before the United Nations war crimes court for war crimes and was acquitted, briefly held the post of prime minister in 2005.  The smaller New Alliance for Kosovo party is led by Behgjet Pacolli, who is dubbed by media the richest Kosovar.  Pacolli, who also holds a Swiss passport, won many contracts from the Russian government to rebuild state buildings in Moscow in the  90s but a decade ago he moved his business from Moscow to Kazakhstan.  It is unclear what post Pacolli will hold in the new government.  The new government will have to tackle unemployment running at 30 percent and improve relations with Kosovo s neighbors, especially Serbia, a precondition for both countries to move forward in the European Union accession process. It must also reform health and education and the tax administration system as well as include representatives of some 120,000 Kosovo Serbs who do not recognize independence. Kosovo declared independence from Serbia in 2008, almost a decade after NATO air strikes drove out Serbian forces accused of expelling and killing ethnic Albanian civilians in a two-year counter-insurgency.  \"\n        ],\n        \"semantic_type\": \"\",\n        \"description\": \"\"\n      }\n    },\n    {\n      \"column\": \"Label\",\n      \"properties\": {\n        \"dtype\": \"number\",\n        \"std\": 0,\n        \"min\": 0,\n        \"max\": 1,\n        \"num_unique_values\": 2,\n        \"samples\": [\n          1,\n          0\n        ],\n        \"semantic_type\": \"\",\n        \"description\": \"\"\n      }\n    }\n  ]\n}"
            }
          },
          "metadata": {},
          "execution_count": 6
        }
      ],
      "source": [
        "fake_df = fake_df[['title', 'text']]\n",
        "real_df = real_df[['title', 'text']]\n",
        "\n",
        "fake_df['Label'] = 0\n",
        "real_df['Label'] = 1\n",
        "\n",
        "data2 = pd.concat([fake_df, real_df], ignore_index=True, sort=False)\n",
        "data2.head(10)"
      ]
    },
    {
      "cell_type": "code",
      "execution_count": null,
      "metadata": {
        "colab": {
          "base_uri": "https://localhost:8080/"
        },
        "id": "anIuROh7tVBw",
        "outputId": "b9275030-de22-42ee-f352-4a47c79cb1d2"
      },
      "outputs": [
        {
          "output_type": "execute_result",
          "data": {
            "text/plain": [
              "(44898, 3)"
            ]
          },
          "metadata": {},
          "execution_count": 7
        }
      ],
      "source": [
        "data2.shape"
      ]
    },
    {
      "cell_type": "code",
      "execution_count": null,
      "metadata": {
        "colab": {
          "base_uri": "https://localhost:8080/",
          "height": 206
        },
        "id": "K9_dKgDusbmn",
        "outputId": "6569487c-9331-4199-a662-5490092ce91c"
      },
      "outputs": [
        {
          "output_type": "execute_result",
          "data": {
            "text/plain": [
              "   Label                                            Content\n",
              "0      0   Donald Trump Sends Out Embarrassing New Year’...\n",
              "1      0   Drunk Bragging Trump Staffer Started Russian ...\n",
              "2      0   Sheriff David Clarke Becomes An Internet Joke...\n",
              "3      0   Trump Is So Obsessed He Even Has Obama’s Name...\n",
              "4      0   Pope Francis Just Called Out Donald Trump Dur..."
            ],
            "text/html": [
              "\n",
              "  <div id=\"df-b9e5e12e-2e44-4619-a970-6067a58fe945\" class=\"colab-df-container\">\n",
              "    <div>\n",
              "<style scoped>\n",
              "    .dataframe tbody tr th:only-of-type {\n",
              "        vertical-align: middle;\n",
              "    }\n",
              "\n",
              "    .dataframe tbody tr th {\n",
              "        vertical-align: top;\n",
              "    }\n",
              "\n",
              "    .dataframe thead th {\n",
              "        text-align: right;\n",
              "    }\n",
              "</style>\n",
              "<table border=\"1\" class=\"dataframe\">\n",
              "  <thead>\n",
              "    <tr style=\"text-align: right;\">\n",
              "      <th></th>\n",
              "      <th>Label</th>\n",
              "      <th>Content</th>\n",
              "    </tr>\n",
              "  </thead>\n",
              "  <tbody>\n",
              "    <tr>\n",
              "      <th>0</th>\n",
              "      <td>0</td>\n",
              "      <td>Donald Trump Sends Out Embarrassing New Year’...</td>\n",
              "    </tr>\n",
              "    <tr>\n",
              "      <th>1</th>\n",
              "      <td>0</td>\n",
              "      <td>Drunk Bragging Trump Staffer Started Russian ...</td>\n",
              "    </tr>\n",
              "    <tr>\n",
              "      <th>2</th>\n",
              "      <td>0</td>\n",
              "      <td>Sheriff David Clarke Becomes An Internet Joke...</td>\n",
              "    </tr>\n",
              "    <tr>\n",
              "      <th>3</th>\n",
              "      <td>0</td>\n",
              "      <td>Trump Is So Obsessed He Even Has Obama’s Name...</td>\n",
              "    </tr>\n",
              "    <tr>\n",
              "      <th>4</th>\n",
              "      <td>0</td>\n",
              "      <td>Pope Francis Just Called Out Donald Trump Dur...</td>\n",
              "    </tr>\n",
              "  </tbody>\n",
              "</table>\n",
              "</div>\n",
              "    <div class=\"colab-df-buttons\">\n",
              "\n",
              "  <div class=\"colab-df-container\">\n",
              "    <button class=\"colab-df-convert\" onclick=\"convertToInteractive('df-b9e5e12e-2e44-4619-a970-6067a58fe945')\"\n",
              "            title=\"Convert this dataframe to an interactive table.\"\n",
              "            style=\"display:none;\">\n",
              "\n",
              "  <svg xmlns=\"http://www.w3.org/2000/svg\" height=\"24px\" viewBox=\"0 -960 960 960\">\n",
              "    <path d=\"M120-120v-720h720v720H120Zm60-500h600v-160H180v160Zm220 220h160v-160H400v160Zm0 220h160v-160H400v160ZM180-400h160v-160H180v160Zm440 0h160v-160H620v160ZM180-180h160v-160H180v160Zm440 0h160v-160H620v160Z\"/>\n",
              "  </svg>\n",
              "    </button>\n",
              "\n",
              "  <style>\n",
              "    .colab-df-container {\n",
              "      display:flex;\n",
              "      gap: 12px;\n",
              "    }\n",
              "\n",
              "    .colab-df-convert {\n",
              "      background-color: #E8F0FE;\n",
              "      border: none;\n",
              "      border-radius: 50%;\n",
              "      cursor: pointer;\n",
              "      display: none;\n",
              "      fill: #1967D2;\n",
              "      height: 32px;\n",
              "      padding: 0 0 0 0;\n",
              "      width: 32px;\n",
              "    }\n",
              "\n",
              "    .colab-df-convert:hover {\n",
              "      background-color: #E2EBFA;\n",
              "      box-shadow: 0px 1px 2px rgba(60, 64, 67, 0.3), 0px 1px 3px 1px rgba(60, 64, 67, 0.15);\n",
              "      fill: #174EA6;\n",
              "    }\n",
              "\n",
              "    .colab-df-buttons div {\n",
              "      margin-bottom: 4px;\n",
              "    }\n",
              "\n",
              "    [theme=dark] .colab-df-convert {\n",
              "      background-color: #3B4455;\n",
              "      fill: #D2E3FC;\n",
              "    }\n",
              "\n",
              "    [theme=dark] .colab-df-convert:hover {\n",
              "      background-color: #434B5C;\n",
              "      box-shadow: 0px 1px 3px 1px rgba(0, 0, 0, 0.15);\n",
              "      filter: drop-shadow(0px 1px 2px rgba(0, 0, 0, 0.3));\n",
              "      fill: #FFFFFF;\n",
              "    }\n",
              "  </style>\n",
              "\n",
              "    <script>\n",
              "      const buttonEl =\n",
              "        document.querySelector('#df-b9e5e12e-2e44-4619-a970-6067a58fe945 button.colab-df-convert');\n",
              "      buttonEl.style.display =\n",
              "        google.colab.kernel.accessAllowed ? 'block' : 'none';\n",
              "\n",
              "      async function convertToInteractive(key) {\n",
              "        const element = document.querySelector('#df-b9e5e12e-2e44-4619-a970-6067a58fe945');\n",
              "        const dataTable =\n",
              "          await google.colab.kernel.invokeFunction('convertToInteractive',\n",
              "                                                    [key], {});\n",
              "        if (!dataTable) return;\n",
              "\n",
              "        const docLinkHtml = 'Like what you see? Visit the ' +\n",
              "          '<a target=\"_blank\" href=https://colab.research.google.com/notebooks/data_table.ipynb>data table notebook</a>'\n",
              "          + ' to learn more about interactive tables.';\n",
              "        element.innerHTML = '';\n",
              "        dataTable['output_type'] = 'display_data';\n",
              "        await google.colab.output.renderOutput(dataTable, element);\n",
              "        const docLink = document.createElement('div');\n",
              "        docLink.innerHTML = docLinkHtml;\n",
              "        element.appendChild(docLink);\n",
              "      }\n",
              "    </script>\n",
              "  </div>\n",
              "\n",
              "\n",
              "<div id=\"df-c799a990-3546-4526-afbf-12d4aec6049f\">\n",
              "  <button class=\"colab-df-quickchart\" onclick=\"quickchart('df-c799a990-3546-4526-afbf-12d4aec6049f')\"\n",
              "            title=\"Suggest charts\"\n",
              "            style=\"display:none;\">\n",
              "\n",
              "<svg xmlns=\"http://www.w3.org/2000/svg\" height=\"24px\"viewBox=\"0 0 24 24\"\n",
              "     width=\"24px\">\n",
              "    <g>\n",
              "        <path d=\"M19 3H5c-1.1 0-2 .9-2 2v14c0 1.1.9 2 2 2h14c1.1 0 2-.9 2-2V5c0-1.1-.9-2-2-2zM9 17H7v-7h2v7zm4 0h-2V7h2v10zm4 0h-2v-4h2v4z\"/>\n",
              "    </g>\n",
              "</svg>\n",
              "  </button>\n",
              "\n",
              "<style>\n",
              "  .colab-df-quickchart {\n",
              "      --bg-color: #E8F0FE;\n",
              "      --fill-color: #1967D2;\n",
              "      --hover-bg-color: #E2EBFA;\n",
              "      --hover-fill-color: #174EA6;\n",
              "      --disabled-fill-color: #AAA;\n",
              "      --disabled-bg-color: #DDD;\n",
              "  }\n",
              "\n",
              "  [theme=dark] .colab-df-quickchart {\n",
              "      --bg-color: #3B4455;\n",
              "      --fill-color: #D2E3FC;\n",
              "      --hover-bg-color: #434B5C;\n",
              "      --hover-fill-color: #FFFFFF;\n",
              "      --disabled-bg-color: #3B4455;\n",
              "      --disabled-fill-color: #666;\n",
              "  }\n",
              "\n",
              "  .colab-df-quickchart {\n",
              "    background-color: var(--bg-color);\n",
              "    border: none;\n",
              "    border-radius: 50%;\n",
              "    cursor: pointer;\n",
              "    display: none;\n",
              "    fill: var(--fill-color);\n",
              "    height: 32px;\n",
              "    padding: 0;\n",
              "    width: 32px;\n",
              "  }\n",
              "\n",
              "  .colab-df-quickchart:hover {\n",
              "    background-color: var(--hover-bg-color);\n",
              "    box-shadow: 0 1px 2px rgba(60, 64, 67, 0.3), 0 1px 3px 1px rgba(60, 64, 67, 0.15);\n",
              "    fill: var(--button-hover-fill-color);\n",
              "  }\n",
              "\n",
              "  .colab-df-quickchart-complete:disabled,\n",
              "  .colab-df-quickchart-complete:disabled:hover {\n",
              "    background-color: var(--disabled-bg-color);\n",
              "    fill: var(--disabled-fill-color);\n",
              "    box-shadow: none;\n",
              "  }\n",
              "\n",
              "  .colab-df-spinner {\n",
              "    border: 2px solid var(--fill-color);\n",
              "    border-color: transparent;\n",
              "    border-bottom-color: var(--fill-color);\n",
              "    animation:\n",
              "      spin 1s steps(1) infinite;\n",
              "  }\n",
              "\n",
              "  @keyframes spin {\n",
              "    0% {\n",
              "      border-color: transparent;\n",
              "      border-bottom-color: var(--fill-color);\n",
              "      border-left-color: var(--fill-color);\n",
              "    }\n",
              "    20% {\n",
              "      border-color: transparent;\n",
              "      border-left-color: var(--fill-color);\n",
              "      border-top-color: var(--fill-color);\n",
              "    }\n",
              "    30% {\n",
              "      border-color: transparent;\n",
              "      border-left-color: var(--fill-color);\n",
              "      border-top-color: var(--fill-color);\n",
              "      border-right-color: var(--fill-color);\n",
              "    }\n",
              "    40% {\n",
              "      border-color: transparent;\n",
              "      border-right-color: var(--fill-color);\n",
              "      border-top-color: var(--fill-color);\n",
              "    }\n",
              "    60% {\n",
              "      border-color: transparent;\n",
              "      border-right-color: var(--fill-color);\n",
              "    }\n",
              "    80% {\n",
              "      border-color: transparent;\n",
              "      border-right-color: var(--fill-color);\n",
              "      border-bottom-color: var(--fill-color);\n",
              "    }\n",
              "    90% {\n",
              "      border-color: transparent;\n",
              "      border-bottom-color: var(--fill-color);\n",
              "    }\n",
              "  }\n",
              "</style>\n",
              "\n",
              "  <script>\n",
              "    async function quickchart(key) {\n",
              "      const quickchartButtonEl =\n",
              "        document.querySelector('#' + key + ' button');\n",
              "      quickchartButtonEl.disabled = true;  // To prevent multiple clicks.\n",
              "      quickchartButtonEl.classList.add('colab-df-spinner');\n",
              "      try {\n",
              "        const charts = await google.colab.kernel.invokeFunction(\n",
              "            'suggestCharts', [key], {});\n",
              "      } catch (error) {\n",
              "        console.error('Error during call to suggestCharts:', error);\n",
              "      }\n",
              "      quickchartButtonEl.classList.remove('colab-df-spinner');\n",
              "      quickchartButtonEl.classList.add('colab-df-quickchart-complete');\n",
              "    }\n",
              "    (() => {\n",
              "      let quickchartButtonEl =\n",
              "        document.querySelector('#df-c799a990-3546-4526-afbf-12d4aec6049f button');\n",
              "      quickchartButtonEl.style.display =\n",
              "        google.colab.kernel.accessAllowed ? 'block' : 'none';\n",
              "    })();\n",
              "  </script>\n",
              "</div>\n",
              "\n",
              "    </div>\n",
              "  </div>\n"
            ],
            "application/vnd.google.colaboratory.intrinsic+json": {
              "type": "dataframe",
              "variable_name": "data2",
              "summary": "{\n  \"name\": \"data2\",\n  \"rows\": 44898,\n  \"fields\": [\n    {\n      \"column\": \"Label\",\n      \"properties\": {\n        \"dtype\": \"number\",\n        \"std\": 0,\n        \"min\": 0,\n        \"max\": 1,\n        \"num_unique_values\": 2,\n        \"samples\": [\n          1,\n          0\n        ],\n        \"semantic_type\": \"\",\n        \"description\": \"\"\n      }\n    },\n    {\n      \"column\": \"Content\",\n      \"properties\": {\n        \"dtype\": \"string\",\n        \"num_unique_values\": 39105,\n        \"samples\": [\n          \"Many 'lost' voters say they have found their candidate in Trump WASHINGTON/NEW YORK (Reuters) - Ted Wade hasn\\u2019t cared about politics enough to cast a vote in a U.S. presidential election for almost a quarter of a century, back when he supported Ross Perot\\u2019s independent candidacy in 1992. But Republican Donald Trump\\u2019s 2016 White House bid has motivated Wade to get involved and he plans to support the real estate mogul in Nevada\\u2019s nominating caucus next month. Trump is a \\u201cnon-politician\\u201d who can fix the \\u201cchaos\\u201d in Washington, he says. About one in 10 Americans who plan to cast a vote this election will do so for the first time in years, if ever, and Trump holds a decided edge with them, according to polling by Reuters/Ipsos. (tmsnrt.rs/1SgeLvi) These voters offer Trump a pool of voters who could be decisive either in the Republican primaries or a general election. They could be crucial for Trump in early-voting states such as Iowa and South Carolina, where his nearest rival, Senator Ted Cruz, is putting pressure on Trump and enjoys a strong base of support with more traditionally conservative voters. In Reuters/Ipsos polling from June to December 2015, 27.3 percent of these \\u201cnew\\u201d voters said they would vote for Trump, higher than his poll numbers among independents and Republicans who regularly vote. By way of comparison, Cruz captures just 3.4 percent of these voters. And Senator Marco Rubio of Florida snags only 4 percent. \\u201cI\\u2019m tired of the chaos between Democrats and Republicans and want to give somebody a try who I think can make a difference,\\u201d said Wade of Trump. The 51-year-old has already switched his affiliation from Democrat to Republican and even attended a Trump campaign event in Las Vegas. He has told his three older children to get involved in the elections, although he did not say whether he wanted them to vote for Trump.  Trump, the Republican front-runner, has made targeting \\u201clost\\u201d voters such as Wade a focus of his campaign. His anti-immigrant rhetoric and protectionist trade proposals have helped him to fashion a message tailored to reach Americans alienated by the endless enmity between the political parties and who, because of declining economic prospects, may feel like neither party has done much for them. Trump\\u2019s strategy is a gamble, given the lack of reliability of many of the voters with whom he is most popular. In interviews, some of those lost voters insist they will show up, saying they are drawn to Trump\\u2019s outsider status and his willingness to upend the political system. Tucson, Arizona, resident Renay Cunningham, 56, said she had never paid much attention to politics in the past. She plans to cast her first ever vote for Trump after hearing his proposed policies to curb illegal immigration, which include building a giant wall on the southern border and making Mexico pay for it. \\u201cWe need a piranha in there, and he\\u2019s definitely a piranha,\\u201d she said. Trump and his operatives are confident they can do what few of his rivals for the Republican nomination have shown they can do \\u2014 expand the party\\u2019s potential voter pool. But while Democrat Barack Obama did that eight years ago by largely registering new voters, including record levels of minorities, both male and female, in urban centers, Trump\\u2019s campaign has instead largely sought out the disaffected, who tend to be overwhelmingly older, white, and less educated than the broader electorate. \\u201cMy whole campaign has been focused on expanding the number of people who want to, and will, participate in this election cycle,\\u201d Trump wrote in a recent op-ed in USA Today. When analyzing \\u201clost\\u201d or \\u201cnew\\u201d voters, Reuters compiled poll results from people who haven\\u2019t voted in the previous two presidential campaigns and midterm congressional elections. The results focused only on those who said they were nearly certain to vote in the November election. It included responses from 3,440 \\u201cnew\\u201d Republican and independent voters \\u2013 a sample that has a credibility interval of 2 percentage points. Jan Leighley, an expert on turnout at American University, said it\\u2019s too soon to compare Trump\\u2019s \\u201cnew\\u201d voters with the disenfranchised voters, especially minorities, who in 2008 turned out in record numbers to elect the first black president. Those voters didn\\u2019t find their way to the polls simply because they were inspired to make history, Leighley said. \\u201cHe also had a kick-ass mobilization structure.\\u201d \\u201cObama\\u2019s campaign went door-to-door. They canvassed whole neighborhoods. \\u201cI don\\u2019t know if he (Trump) has the campaign infrastructure to make sure that the folks who are riled up are walked to the polls on Election Day,\\u201d she said. Trump\\u2019s campaign insists he does have the infrastructure, but won\\u2019t provide specifics on how it intends to turn casual supporters into engaged voters. The campaign says it does follow up with the thousands of attendees who jam arenas for Trump\\u2019s rallies. That\\u2019s one significant advantage the reality star has over the other candidates in the Republican field, as the challenge in reaching voters who have fallen out of the political process often lies in simply locating them. \\u201cWe\\u2019ve identified a lot of people in early primary states who have not participated in the process before,\\u201d campaign manager Corey Lewandowski told Reuters. Lewandowski resists the notion that Trump needs to turn out \\u201cnew\\u201d or reluctant voters to win states such as Iowa. Even if the Trump campaign isn\\u2019t necessarily counting on them, it may be reassuring that his supporters among \\u201cnew\\u201d voters who responded to the Reuters/Ipsos survey appear motivated to cast a vote for him. At least for the time being. Ronald Thomas, a 49-year-old truck driver and Navy veteran in North Carolina, said he, too, has never voted in a presidential contest. His girlfriend would push him to vote but he would always say \\u201cYeah, but the right one ain\\u2019t come along yet,\\u2019\\u201d Thomas said. Trump is that man. His willingness to take on the government has set him apart as someone who would \\u201cactually look out for the people,\\u201d said Thomas. Now he wants to know how to register so that he can vote for the billionaire.  And there\\u2019s Vince DiSylvester, a retired maintenance worker in Missouri, who, at 73, said has never cast a ballot for president. But Trump has inspired him to rethink that. \\u201cHe\\u2019s a businessman, he knows business, he knows how to get things done,\\u201d he said. \\u201cAnd he tells it like it is. If you don\\u2019t like it - well, too bad.\\u201d  (Editing by Ross Colvin) SAP is the sponsor of this coverage which is independently produced by the staff of Reuters News Agency.\",\n          \"Iranian Revolutionary Guards commander, another fighter, killed in Syria: Iranian media BEIRUT (Reuters) - A commander in Iran s elite Revolutionary Guards and a lower-ranking Iranian fighter have been killed fighting Islamic State in Syria in recent days, Iranian media reported on Sunday. The Revolutionary Guards, Iran s most powerful military force which also oversees an economic empire worth billions of dollars, have been fighting in support of Syrian president Bashar al-Assad for several years. An Iranian official told the Tasnim news agency last year that more than 1,000 Iranians have been killed in Syria. Senior members of the Guards have been among those killed. Kheyrollah Samadi, a Guards commander in charge of a unit in Syria, died on Thursday in fighting in the Albu Kamal region, bordering Iraq, according to Fars News. Samadi was killed in clashes with Islamic State, according to the Ghatreh news site. Iranian media have previously reported on fighting in that area between Iran s Shi ite militia allies and Islamic State. The Syrian army and its allies took complete control over Albu Kamal, Islamic State s last significant town in Syria, a military news service run by Hezbollah said on Sunday. Samadi, who fought in the Iran-Iraq war during the 1980s and had retired from the Iranian military before signing on to go to Syria, was killed by a mortar explosion, Fars News, a news agency, said. Iranian news sites posted pictures on Sunday of Samadi with Qassem Soleimani, head of the Guards branch responsible for operations outside Iran. The lower-ranking Iranian fighter, Mehdi Movahednia, was killed on Saturday in clashes with Islamic State in the town of Mayadin in eastern Syria, Fars News reported. The Revolutionary Guards initially kept quiet about their role in the Syria conflict. But in recent years, as casualties have mounted, they have been more outspoken about their engagement, framing it as an existential struggle against the Sunni Muslim fighters of Islamic State who see Shi ites, the majority of Iran s population, as apostates. On web sites linked to the Guards, members of the organization killed in Syria and Iraq are praised as protectors of Shi ite holy sites and labeled  defenders of the shrine . U.S. President Donald Trump last month gave the U.S. Treasury Department authority to impose economic sanctions on members of the Iranian Revolutionary Guard in response to what Washington calls its efforts to destabilize and undermine its opponents in the Middle East. \"\n        ],\n        \"semantic_type\": \"\",\n        \"description\": \"\"\n      }\n    }\n  ]\n}"
            }
          },
          "metadata": {},
          "execution_count": 8
        }
      ],
      "source": [
        "data2['Content'] = data2['title'] + ' ' + data2['text']\n",
        "data2.drop(['title', 'text'], axis=1, inplace=True)\n",
        "data2.head()"
      ]
    },
    {
      "cell_type": "markdown",
      "metadata": {
        "id": "tJWxoLXO9rfY"
      },
      "source": [
        "**Data preprocessing**\n",
        "\n",
        "Tokenization: Chia dữ liệu văn bản thành các phần nhỏ hơn gọi là tokens và loại bỏ tất cả các dấu câu.\n",
        "\n",
        "Lọc số: Loại bỏ các từ chứa số.\n",
        "\n",
        "Chuyển đổi thành chữ thường: Chuyển đổi tất cả các từ thành chữ thường.\n",
        "\n",
        "Lọc theo số ký tự: Loại bỏ các từ có ít hơn N ký tự."
      ]
    },
    {
      "cell_type": "code",
      "execution_count": null,
      "metadata": {
        "colab": {
          "base_uri": "https://localhost:8080/"
        },
        "id": "VaA1EbczJ5on",
        "outputId": "5ba98aed-8614-42d8-bb55-6fcf8c4fb983"
      },
      "outputs": [
        {
          "output_type": "stream",
          "name": "stderr",
          "text": [
            "[nltk_data] Downloading package stopwords to /root/nltk_data...\n",
            "[nltk_data]   Unzipping corpora/stopwords.zip.\n"
          ]
        },
        {
          "output_type": "execute_result",
          "data": {
            "text/plain": [
              "True"
            ]
          },
          "metadata": {},
          "execution_count": 9
        }
      ],
      "source": [
        "# Tải tài nguyên stop words tiếng Anh từ thư viện nltk\n",
        "nltk.download('stopwords')"
      ]
    },
    {
      "cell_type": "code",
      "execution_count": null,
      "metadata": {
        "id": "0LQDhMhE570n"
      },
      "outputs": [],
      "source": [
        "def preprocess_text(text):\n",
        "    \"\"\"Preprocesses a text by tokenization, removing punctuation, filtering out digits,\n",
        "    filtering by word length, converting to lowercase, removing HTML tags,\n",
        "    removing stop words, and stemming.\"\"\"\n",
        "\n",
        "    # Tokenization and removing punctuation\n",
        "    tokens = re.findall(r'\\b\\w+\\b', text)\n",
        "\n",
        "    # Removing digits\n",
        "    tokens = [word for word in tokens if not any(char.isdigit() for char in word)]\n",
        "\n",
        "    # Filtering by word length\n",
        "    N = 3  # Minimum word length\n",
        "    tokens = [word for word in tokens if len(word) >= N]\n",
        "\n",
        "    # Converting to lowercase\n",
        "    tokens = [word.lower() for word in tokens]\n",
        "\n",
        "    # Removing HTML tags\n",
        "    text = re.sub(r'<[^>]*>', '', text)\n",
        "\n",
        "    # Removing stop words\n",
        "    stop_words = set(stopwords.words('english'))\n",
        "    tokens = [word for word in tokens if word not in stop_words]\n",
        "\n",
        "    # Stemming\n",
        "    stemmer = PorterStemmer()\n",
        "    tokens = [stemmer.stem(word) for word in tokens]\n",
        "\n",
        "    return tokens\n"
      ]
    },
    {
      "cell_type": "code",
      "execution_count": null,
      "metadata": {
        "colab": {
          "base_uri": "https://localhost:8080/"
        },
        "id": "PNBNFcy_txur",
        "outputId": "159e1c0a-6302-4c8f-eb1a-cc77ed5b81f5"
      },
      "outputs": [
        {
          "output_type": "stream",
          "name": "stdout",
          "text": [
            "       Label                                            Content  \\\n",
            "0          0   Donald Trump Sends Out Embarrassing New Year’...   \n",
            "1          0   Drunk Bragging Trump Staffer Started Russian ...   \n",
            "2          0   Sheriff David Clarke Becomes An Internet Joke...   \n",
            "3          0   Trump Is So Obsessed He Even Has Obama’s Name...   \n",
            "4          0   Pope Francis Just Called Out Donald Trump Dur...   \n",
            "...      ...                                                ...   \n",
            "44893      1  'Fully committed' NATO backs new U.S. approach...   \n",
            "44894      1  LexisNexis withdrew two products from Chinese ...   \n",
            "44895      1  Minsk cultural hub becomes haven from authorit...   \n",
            "44896      1  Vatican upbeat on possibility of Pope Francis ...   \n",
            "44897      1  Indonesia to buy $1.14 billion worth of Russia...   \n",
            "\n",
            "                                          Content_tokens  \n",
            "0      [donald, trump, send, embarrass, new, year, ev...  \n",
            "1      [drunk, brag, trump, staffer, start, russian, ...  \n",
            "2      [sheriff, david, clark, becom, internet, joke,...  \n",
            "3      [trump, obsess, even, obama, name, code, websi...  \n",
            "4      [pope, franci, call, donald, trump, christma, ...  \n",
            "...                                                  ...  \n",
            "44893  [fulli, commit, nato, back, new, approach, afg...  \n",
            "44894  [lexisnexi, withdrew, two, product, chines, ma...  \n",
            "44895  [minsk, cultur, hub, becom, author, minsk, reu...  \n",
            "44896  [vatican, upbeat, possibl, pope, franci, visit...  \n",
            "44897  [indonesia, buy, billion, worth, russian, jet,...  \n",
            "\n",
            "[44898 rows x 3 columns]\n"
          ]
        }
      ],
      "source": [
        "# Apply the preprocessing function to the 'Content' column\n",
        "data['Content_tokens'] = data['Content'].apply(preprocess_text)\n",
        "data1['Content_tokens'] = data1['Content'].apply(preprocess_text)\n",
        "data2['Content_tokens'] = data2['Content'].apply(preprocess_text)\n",
        "\n",
        "# Display the preprocessed data\n",
        "print(data2)"
      ]
    },
    {
      "cell_type": "markdown",
      "metadata": {
        "id": "Q-0gMpNsF_Bz"
      },
      "source": [
        "Use TF to extract the feature from the data\n",
        "set."
      ]
    },
    {
      "cell_type": "code",
      "execution_count": null,
      "metadata": {
        "colab": {
          "base_uri": "https://localhost:8080/"
        },
        "id": "Oqi0VGs9EfPO",
        "outputId": "b1439b77-85f4-466e-ffc2-d42bdfd53579"
      },
      "outputs": [
        {
          "output_type": "stream",
          "name": "stdout",
          "text": [
            "                                               Content  Label  \\\n",
            "0    The list of Republicans supporting Hillary Cli...      1   \n",
            "1    CLEVELAND — Avik Roy is a Republican’s Republi...      1   \n",
            "2    All politicians bend the truth to fit their pu...      1   \n",
            "3    ’m cool with you removing me from your friends...      1   \n",
            "4    “DON’T go anywhere near a mosque,” I told my m...      1   \n",
            "..                                                 ...    ...   \n",
            "96   Ottawa | Prime Minister Justin Trudeau is gett...      0   \n",
            "97   Khizr Khan, the Muslim Gold Star father that t...      0   \n",
            "98   Authors Darwin Porter and Danforth Prince have...      0   \n",
            "99   Indianapolis, IN — Some are calling Donald Tru...      0   \n",
            "100  Washington, D.C. – South African Billionaire, ...      0   \n",
            "\n",
            "                                        Content_tokens  \n",
            "0    [0.003067484662576687, 0.013803680981595092, 0...  \n",
            "1    [0.0, 0.02927400468384075, 0.0, 0.0, 0.0, 0.0,...  \n",
            "2    [0.0010224948875255625, 0.005112474437627812, ...  \n",
            "3    [0.001088139281828074, 0.0, 0.0119695321001088...  \n",
            "4    [0.0040650406504065045, 0.0, 0.0, 0.0, 0.0, 0....  \n",
            "..                                                 ...  \n",
            "96   [0.0, 0.004975124378109453, 0.0, 0.0, 0.0, 0.0...  \n",
            "97   [0.0008695652173913044, 0.0008695652173913044,...  \n",
            "98   [0.0, 0.0, 0.0, 0.029239766081871343, 0.081871...  \n",
            "99   [0.0, 0.0, 0.0, 0.0, 0.0, 0.0, 0.0, 0.0, 0.011...  \n",
            "100  [0.0, 0.0, 0.0, 0.0, 0.0, 0.0, 0.0, 0.0, 0.0, ...  \n",
            "\n",
            "[101 rows x 3 columns]\n",
            "         list  republican   support   hillari   clinton     still     month  \\\n",
            "0    0.003067    0.013804  0.007669  0.015337  0.023006  0.000767  0.001534   \n",
            "1    0.000000    0.029274  0.000000  0.000000  0.000000  0.000000  0.000000   \n",
            "2    0.001022    0.005112  0.010225  0.005112  0.015337  0.001022  0.001022   \n",
            "3    0.001088    0.000000  0.011970  0.000000  0.000000  0.004353  0.000000   \n",
            "4    0.004065    0.000000  0.000000  0.000000  0.000000  0.002033  0.002033   \n",
            "..        ...         ...       ...       ...       ...       ...       ...   \n",
            "96   0.000000    0.004975  0.000000  0.000000  0.000000  0.000000  0.000000   \n",
            "97   0.000870    0.000870  0.000000  0.014783  0.031304  0.000000  0.000000   \n",
            "98   0.000000    0.000000  0.000000  0.029240  0.081871  0.000000  0.000000   \n",
            "99   0.000000    0.000000  0.000000  0.000000  0.000000  0.000000  0.000000   \n",
            "100  0.000000    0.000000  0.000000  0.000000  0.000000  0.000000  0.000000   \n",
            "\n",
            "         keep       gop  administr  ...       tax       ted      cruz  \\\n",
            "0    0.001534  0.005368   0.005368  ...  0.000000  0.000000  0.000000   \n",
            "1    0.000000  0.005855   0.000000  ...  0.000000  0.000000  0.000000   \n",
            "2    0.000000  0.000000   0.002045  ...  0.000000  0.000000  0.000000   \n",
            "3    0.000000  0.000000   0.000000  ...  0.000000  0.000000  0.000000   \n",
            "4    0.004065  0.000000   0.000000  ...  0.000000  0.000000  0.000000   \n",
            "..        ...       ...        ...  ...       ...       ...       ...   \n",
            "96   0.000000  0.000000   0.000000  ...  0.000000  0.000000  0.000000   \n",
            "97   0.000000  0.000870   0.000000  ...  0.006087  0.000000  0.000000   \n",
            "98   0.000000  0.000000   0.000000  ...  0.000000  0.000000  0.000000   \n",
            "99   0.000000  0.011905   0.000000  ...  0.000000  0.017857  0.035714   \n",
            "100  0.000000  0.000000   0.000000  ...  0.000000  0.000000  0.000000   \n",
            "\n",
            "       court   program  account    comey  epstein   foundat  smug  \n",
            "0    0.00000  0.000000  0.00000  0.00000      0.0  0.000000   0.0  \n",
            "1    0.00000  0.000000  0.00000  0.00000      0.0  0.000000   0.0  \n",
            "2    0.00000  0.000000  0.00000  0.00000      0.0  0.000000   0.0  \n",
            "3    0.00000  0.000000  0.00000  0.00000      0.0  0.000000   0.0  \n",
            "4    0.00000  0.000000  0.00000  0.00000      0.0  0.000000   0.0  \n",
            "..       ...       ...      ...      ...      ...       ...   ...  \n",
            "96   0.00000  0.000000  0.00000  0.00000      0.0  0.000000   0.0  \n",
            "97   0.00087  0.010435  0.00087  0.00087      0.0  0.008696   0.0  \n",
            "98   0.00000  0.000000  0.00000  0.00000      0.0  0.000000   0.0  \n",
            "99   0.00000  0.000000  0.00000  0.00000      0.0  0.000000   0.0  \n",
            "100  0.00000  0.000000  0.00000  0.00000      0.0  0.000000   0.0  \n",
            "\n",
            "[101 rows x 301 columns]\n"
          ]
        }
      ],
      "source": [
        "#Data set 1 – BuzzFeed Political News Data set\n",
        "import pandas as pd\n",
        "from collections import Counter\n",
        "\n",
        "# Giả định `data` là DataFrame chứa các document và `Content_tokens` là cột chứa danh sách các token trong mỗi document\n",
        "\n",
        "# Tạo một Counter object để đếm tần suất xuất hiện của các token\n",
        "token_counter = Counter()\n",
        "\n",
        "# Đếm tần suất xuất hiện của các token trong toàn bộ dữ liệu\n",
        "for tokens in data['Content_tokens']:\n",
        "    token_counter.update(tokens)\n",
        "\n",
        "# Chọn các token có tần suất xuất hiện lớn hơn 30\n",
        "selected_tokens = {token: count for token, count in token_counter.items() if count > 30}\n",
        "\n",
        "# Tính giá trị TF cho mỗi token trong mỗi document\n",
        "for i, tokens in enumerate(data['Content_tokens']):\n",
        "    tf_values = {token: tokens.count(token) / len(tokens) for token in selected_tokens.keys()}\n",
        "    # Tạo danh sách giá trị TF theo thứ tự của selected_tokens\n",
        "    tf_list = [tf_values[token] if token in tf_values else 0 for token in selected_tokens.keys()]\n",
        "    data.at[i, 'Content_tokens'] = tf_list\n",
        "\n",
        "# In ra dữ liệu sau khi thay thế\n",
        "print(data)\n",
        "\n",
        "# Tạo DataFrame từ dữ liệu TF\n",
        "dtm = pd.DataFrame(list(data['Content_tokens']))\n",
        "\n",
        "# Đặt lại tên cột để thể hiện các term\n",
        "dtm.columns = list(selected_tokens.keys())\n",
        "\n",
        "# In ra DTM\n",
        "print(dtm)\n"
      ]
    },
    {
      "cell_type": "code",
      "execution_count": null,
      "metadata": {
        "id": "nhfutsdtgoGm"
      },
      "outputs": [],
      "source": [
        "X = dtm.values\n",
        "y = data['Label'].values\n",
        "y = y.ravel()"
      ]
    },
    {
      "cell_type": "code",
      "execution_count": null,
      "metadata": {
        "id": "KKtDMwBWiv-o"
      },
      "outputs": [],
      "source": [
        "# normalize data\n",
        "scaler  = StandardScaler()\n",
        "X = scaler.fit_transform(X)\n",
        "X_train, X_test, y_train, y_test = model_selection.train_test_split(X, y, test_size=0.3, random_state=123)\n"
      ]
    },
    {
      "cell_type": "code",
      "execution_count": null,
      "metadata": {
        "colab": {
          "base_uri": "https://localhost:8080/"
        },
        "id": "WTyjux2g1a3S",
        "outputId": "50dd1fbd-02c1-46c5-8f2d-a5ac1df65f12"
      },
      "outputs": [
        {
          "name": "stdout",
          "output_type": "stream",
          "text": [
            "Best parameters found:  {'alpha': 0.01, 'eta0': 1, 'learning_rate': 'adaptive', 'loss': 'hinge', 'max_iter': 1000, 'penalty': 'l2'}\n"
          ]
        }
      ],
      "source": [
        "# Tối ưu thuật toán bằng cách dùng GridSearchCV để tìm ra tham số tối ưu\n",
        "sgd = SGDClassifier(random_state=123)\n",
        "\n",
        "# Định nghĩa các giá trị tham số để tìm kiếm\n",
        "param_grid = {\n",
        "    'loss': ['hinge', 'log', 'modified_huber', 'squared_hinge', 'perceptron'],\n",
        "    'penalty': ['l2', 'l1', 'elasticnet'],\n",
        "    'alpha': [0.0001, 0.001, 0.01, 0.1, 1],\n",
        "    'max_iter': [1000, 2000, 3000],\n",
        "    'learning_rate': ['constant', 'optimal', 'invscaling', 'adaptive'],\n",
        "    'eta0': [0.01, 0.1, 1]  # Chỉ thêm eta0 với giá trị hợp lệ\n",
        "}\n",
        "\n",
        "# Khởi tạo GridSearchCV với 5-fold cross-validation\n",
        "grid_search = GridSearchCV(estimator=sgd, param_grid=param_grid, cv=5, n_jobs=-1, scoring='f1', error_score=np.nan)\n",
        "\n",
        "# Huấn luyện GridSearchCV trên tập huấn luyện\n",
        "grid_search.fit(X_train, y_train)\n",
        "\n",
        "# Lấy tham số tốt nhất\n",
        "best_params = grid_search.best_params_\n",
        "print(\"Best parameters found: \", best_params)"
      ]
    },
    {
      "cell_type": "code",
      "execution_count": null,
      "metadata": {
        "colab": {
          "base_uri": "https://localhost:8080/"
        },
        "id": "9HSgVnFGa5Xb",
        "outputId": "6b1b2372-2819-4512-f197-046c44f47a9f"
      },
      "outputs": [
        {
          "output_type": "stream",
          "name": "stdout",
          "text": [
            "Accuracy: 0.7419354838709677\n",
            "Precision: 0.7368421052631579\n",
            "Recall: 0.8235294117647058\n",
            "F1 Score: 0.7777777777777778\n"
          ]
        }
      ],
      "source": [
        "# Sử dụng các tham số tối ưu để khởi tạo lại mô hình SGD\n",
        "best_sgd = SGDClassifier(alpha= 0.01, eta0= 1, learning_rate= 'adaptive', loss= 'hinge', max_iter=1000, penalty= 'l2', random_state= 42)\n",
        "best_sgd.fit(X_train, y_train)\n",
        "\n",
        "# Dự đoán trên tập kiểm tra\n",
        "y_pred_sgd = best_sgd.predict(X_test)\n",
        "\n",
        "# Đánh giá mô hình\n",
        "acc_sgd = accuracy_score(y_test, y_pred_sgd)\n",
        "precision_sgd = precision_score(y_test, y_pred_sgd)\n",
        "recall_sgd = recall_score(y_test, y_pred_sgd)\n",
        "f1_sgd = f1_score(y_test, y_pred_sgd)\n",
        "\n",
        "print(\"Accuracy:\", acc_sgd)\n",
        "print(\"Precision:\", precision_sgd)\n",
        "print(\"Recall:\", recall_sgd)\n",
        "print(\"F1 Score:\", f1_sgd)"
      ]
    },
    {
      "cell_type": "code",
      "execution_count": null,
      "metadata": {
        "colab": {
          "base_uri": "https://localhost:8080/"
        },
        "id": "Nmecznqo6L-O",
        "outputId": "0acdb40a-7560-49f5-902f-66d0e7b527e4"
      },
      "outputs": [
        {
          "name": "stdout",
          "output_type": "stream",
          "text": [
            "Best parameters found:  {'criterion': 'entropy', 'max_depth': None, 'max_features': 'log2', 'min_samples_leaf': 1, 'min_samples_split': 10}\n"
          ]
        }
      ],
      "source": [
        "# Tạo mô hình Decision Tree Classifier\n",
        "clf = tree.DecisionTreeClassifier(random_state= 42)\n",
        "\n",
        "# Định nghĩa các giá trị tham số để tìm kiếm\n",
        "param_grid = {\n",
        "    'criterion': ['gini', 'entropy'],\n",
        "    'max_depth': [None, 10, 20, 30, 40, 50],\n",
        "    'min_samples_split': [2, 5, 10],\n",
        "    'min_samples_leaf': [1, 2, 4],\n",
        "    'max_features': [None, 'auto', 'sqrt', 'log2']\n",
        "}\n",
        "\n",
        "# Khởi tạo GridSearchCV với 5-fold cross-validation\n",
        "grid_search = GridSearchCV(estimator=clf, param_grid=param_grid, cv=5, n_jobs=-1, scoring='f1', error_score=np.nan)\n",
        "\n",
        "# Huấn luyện GridSearchCV trên tập huấn luyện\n",
        "grid_search.fit(X_train, y_train)\n",
        "\n",
        "# Lấy tham số tốt nhất\n",
        "best_params = grid_search.best_params_\n",
        "print(\"Best parameters found: \", best_params)"
      ]
    },
    {
      "cell_type": "code",
      "execution_count": null,
      "metadata": {
        "colab": {
          "base_uri": "https://localhost:8080/"
        },
        "id": "0iWGXe2GeVZv",
        "outputId": "127162df-7215-436d-96b2-73960ced2337"
      },
      "outputs": [
        {
          "output_type": "stream",
          "name": "stdout",
          "text": [
            "Accuracy: 0.6451612903225806\n",
            "Precision: 0.6875\n",
            "Recall: 0.6470588235294118\n",
            "F1 Score: 0.6666666666666667\n"
          ]
        }
      ],
      "source": [
        "best_clf = tree.DecisionTreeClassifier(criterion= 'entropy', max_depth= None, max_features='log2', min_samples_leaf=1, min_samples_split= 10, random_state= 42)\n",
        "best_clf.fit(X_train, y_train)\n",
        "\n",
        "# Dự đoán trên tập kiểm tra\n",
        "y_pred_tree = best_clf.predict(X_test)\n",
        "\n",
        "# Đánh giá mô hình\n",
        "acc_tree = accuracy_score(y_test, y_pred_tree)\n",
        "precision_tree = precision_score(y_test, y_pred_tree)\n",
        "recall_tree = recall_score(y_test, y_pred_tree)\n",
        "f1_tree = f1_score(y_test, y_pred_tree)\n",
        "\n",
        "# In ra các giá trị\n",
        "print(\"Accuracy:\", acc_tree)\n",
        "print(\"Precision:\", precision_tree)\n",
        "print(\"Recall:\", recall_tree)\n",
        "print(\"F1 Score:\", f1_tree)\n",
        "\n",
        "# Plot cây quyết định (nếu cần)\n",
        "# from sklearn.tree import plot_tree\n",
        "# import matplotlib.pyplot as plt\n",
        "# plot_tree(best_clf)\n",
        "# plt.show()"
      ]
    },
    {
      "cell_type": "code",
      "execution_count": null,
      "metadata": {
        "colab": {
          "base_uri": "https://localhost:8080/"
        },
        "id": "gqYhoPN77qfE",
        "outputId": "4658170e-6e8e-49dd-bdac-13f3731b7ca8"
      },
      "outputs": [
        {
          "output_type": "stream",
          "name": "stdout",
          "text": [
            "Fitting 5 folds for each of 81 candidates, totalling 405 fits\n",
            "Best parameters found:  {'estimator__max_depth': None, 'estimator__min_samples_leaf': 2, 'estimator__min_samples_split': 2, 'n_estimators': 50}\n",
            "Best cross-validation score:  0.8\n"
          ]
        }
      ],
      "source": [
        "# Tạo mô hình cây quyết định\n",
        "base_estimator = tree.DecisionTreeClassifier()\n",
        "\n",
        "# Tạo BaggingClassifier với tham số 'estimator'\n",
        "bagging = BaggingClassifier(estimator=base_estimator, random_state=123)\n",
        "\n",
        "# Định nghĩa lưới tham số cho GridSearchCV\n",
        "param_grid = {\n",
        "    'n_estimators': [10, 50, 100],\n",
        "    'estimator__max_depth': [None, 10, 20],\n",
        "    'estimator__min_samples_split': [2, 5, 10],\n",
        "    'estimator__min_samples_leaf': [1, 2, 4]\n",
        "}\n",
        "\n",
        "# Khởi tạo GridSearchCV\n",
        "grid_search = GridSearchCV(estimator=bagging, param_grid=param_grid, cv=5, n_jobs=-1, verbose=2)\n",
        "\n",
        "# Huấn luyện GridSearchCV\n",
        "grid_search.fit(X_train, y_train)\n",
        "\n",
        "# Kết quả tốt nhất\n",
        "best_params = grid_search.best_params_\n",
        "best_score = grid_search.best_score_\n",
        "\n",
        "# In kết quả\n",
        "print(\"Best parameters found: \", best_params)\n",
        "print(\"Best cross-validation score: \", best_score)\n"
      ]
    },
    {
      "cell_type": "code",
      "execution_count": null,
      "metadata": {
        "colab": {
          "base_uri": "https://localhost:8080/"
        },
        "id": "w9JkQPrexwCI",
        "outputId": "f2529a10-b011-4d0d-dfb3-357fd71b1cfa"
      },
      "outputs": [
        {
          "output_type": "stream",
          "name": "stdout",
          "text": [
            "Accuracy: 0.6451612903225806\n",
            "Precision: 0.6875\n",
            "Recall: 0.6470588235294118\n",
            "F1 Score: 0.6666666666666667\n"
          ]
        }
      ],
      "source": [
        "# Sử dụng mô hình tốt nhất để dự đoán trên tập kiểm tra\n",
        "best_bagging = grid_search.best_estimator_\n",
        "y_pred_bagging = best_bagging.predict(X_test)\n",
        "\n",
        "# Đánh giá mô hình\n",
        "acc_bagging = accuracy_score(y_test, y_pred_bagging)\n",
        "precision_bagging = precision_score(y_test, y_pred_bagging)\n",
        "recall_bagging = recall_score(y_test, y_pred_bagging)\n",
        "f1_bagging = f1_score(y_test, y_pred_bagging)\n",
        "\n",
        "# In ra các giá trị\n",
        "print(\"Accuracy:\", acc_bagging)\n",
        "print(\"Precision:\", precision_bagging)\n",
        "print(\"Recall:\", recall_bagging)\n",
        "print(\"F1 Score:\", f1_bagging)"
      ]
    },
    {
      "cell_type": "code",
      "execution_count": null,
      "metadata": {
        "colab": {
          "base_uri": "https://localhost:8080/"
        },
        "id": "Zzz5CZR8Fdjv",
        "outputId": "f9c4cc35-b9ff-4098-a82e-6087af1bd13c"
      },
      "outputs": [
        {
          "output_type": "stream",
          "name": "stdout",
          "text": [
            "                                               Content  Label  \\\n",
            "0    A quick trip down memory lane causes a stumble...      0   \n",
            "1    Donald Trump was promised a smooth and respect...      0   \n",
            "2    Turkey’s President Recep Erdogan has come out ...      0   \n",
            "3    On Tuesday, the Times of Israel reported that ...      0   \n",
            "4    Since 2008 Obama and Democrats lost white work...      0   \n",
            "..                                                 ...    ...   \n",
            "145  As he traveled the country on his thank you to...      1   \n",
            "146  A federal judge in New York has unsealed the s...      1   \n",
            "147  On Sunday evening, Donald Trump invited report...      1   \n",
            "148  WASHINGTON -- Allegations of retaliation again...      1   \n",
            "149  A group of millennial activists from across th...      1   \n",
            "\n",
            "                                        Content_tokens  \n",
            "0    [quick, trip, memori, lane, caus, stumbl, gem,...  \n",
            "1    [donald, trump, promis, smooth, respect, trans...  \n",
            "2    [turkey, presid, recep, erdogan, come, swing, ...  \n",
            "3    [tuesday, time, israel, report, egyptian, news...  \n",
            "4    [sinc, obama, democrat, lost, white, work, cla...  \n",
            "..                                                 ...  \n",
            "145  [travel, countri, thank, tour, presid, elect, ...  \n",
            "146  [feder, judg, new, york, unseal, search, warra...  \n",
            "147  [sunday, even, donald, trump, invit, report, r...  \n",
            "148  [washington, alleg, retali, whistleblow, natio...  \n",
            "149  [group, millenni, activist, across, countri, p...  \n",
            "\n",
            "[150 rows x 3 columns]\n",
            "                                               Content  Label  \\\n",
            "0    A quick trip down memory lane causes a stumble...      0   \n",
            "1    Donald Trump was promised a smooth and respect...      0   \n",
            "2    Turkey’s President Recep Erdogan has come out ...      0   \n",
            "3    On Tuesday, the Times of Israel reported that ...      0   \n",
            "4    Since 2008 Obama and Democrats lost white work...      0   \n",
            "..                                                 ...    ...   \n",
            "145  As he traveled the country on his thank you to...      1   \n",
            "146  A federal judge in New York has unsealed the s...      1   \n",
            "147  On Sunday evening, Donald Trump invited report...      1   \n",
            "148  WASHINGTON -- Allegations of retaliation again...      1   \n",
            "149  A group of millennial activists from across th...      1   \n",
            "\n",
            "                                        Content_tokens  \n",
            "0    [0.04431314623338257, 0.0029542097488921715, 0...  \n",
            "1    [0.03880597014925373, 0.005970149253731343, 0....  \n",
            "2    [0.0, 0.0, 0.0, 0.0, 0.0029069767441860465, 0....  \n",
            "3    [0.018404907975460124, 0.0, 0.0, 0.0, 0.0, 0.0...  \n",
            "4    [0.06993006993006994, 0.0, 0.0, 0.006993006993...  \n",
            "..                                                 ...  \n",
            "145  [0.0055248618784530384, 0.0055248618784530384,...  \n",
            "146  [0.0, 0.0, 0.0, 0.004016064257028112, 0.0, 0.0...  \n",
            "147  [0.0, 0.0, 0.0, 0.0, 0.004901960784313725, 0.0...  \n",
            "148  [0.011869436201780416, 0.008902077151335312, 0...  \n",
            "149  [0.0, 0.0038461538461538464, 0.0, 0.0, 0.01923...  \n",
            "\n",
            "[150 rows x 3 columns]\n",
            "        obama     first       run     offic    presid  american    public  \\\n",
            "0    0.044313  0.002954  0.001477  0.002954  0.017725  0.002954  0.005908   \n",
            "1    0.038806  0.005970  0.000000  0.002985  0.017910  0.014925  0.000000   \n",
            "2    0.000000  0.000000  0.000000  0.000000  0.002907  0.000000  0.002907   \n",
            "3    0.018405  0.000000  0.000000  0.000000  0.000000  0.003067  0.000000   \n",
            "4    0.069930  0.000000  0.000000  0.006993  0.000000  0.020979  0.000000   \n",
            "..        ...       ...       ...       ...       ...       ...       ...   \n",
            "145  0.005525  0.005525  0.000000  0.000000  0.016575  0.005525  0.000000   \n",
            "146  0.000000  0.000000  0.000000  0.004016  0.000000  0.000000  0.000000   \n",
            "147  0.000000  0.000000  0.000000  0.000000  0.004902  0.000000  0.000000   \n",
            "148  0.011869  0.008902  0.000000  0.002967  0.005935  0.000000  0.002967   \n",
            "149  0.000000  0.003846  0.000000  0.000000  0.019231  0.003846  0.000000   \n",
            "\n",
            "         make    govern      busi  ...  question   protect       fbi  foundat  \\\n",
            "0    0.002954  0.013294  0.004431  ...       0.0  0.000000  0.000000      0.0   \n",
            "1    0.000000  0.002985  0.000000  ...       0.0  0.000000  0.000000      0.0   \n",
            "2    0.005814  0.008721  0.000000  ...       0.0  0.000000  0.000000      0.0   \n",
            "3    0.000000  0.000000  0.000000  ...       0.0  0.000000  0.000000      0.0   \n",
            "4    0.000000  0.000000  0.006993  ...       0.0  0.000000  0.000000      0.0   \n",
            "..        ...       ...       ...  ...       ...       ...       ...      ...   \n",
            "145  0.000000  0.000000  0.005525  ...       0.0  0.000000  0.000000      0.0   \n",
            "146  0.000000  0.004016  0.000000  ...       0.0  0.004016  0.028112      0.0   \n",
            "147  0.000000  0.000000  0.004902  ...       0.0  0.000000  0.000000      0.0   \n",
            "148  0.002967  0.011869  0.000000  ...       0.0  0.008902  0.000000      0.0   \n",
            "149  0.011538  0.000000  0.000000  ...       0.0  0.000000  0.000000      0.0   \n",
            "\n",
            "        relat  polici  percent   session  committe  tillerson  \n",
            "0    0.000000     0.0      0.0  0.000000       0.0        0.0  \n",
            "1    0.000000     0.0      0.0  0.000000       0.0        0.0  \n",
            "2    0.000000     0.0      0.0  0.000000       0.0        0.0  \n",
            "3    0.000000     0.0      0.0  0.000000       0.0        0.0  \n",
            "4    0.000000     0.0      0.0  0.000000       0.0        0.0  \n",
            "..        ...     ...      ...       ...       ...        ...  \n",
            "145  0.000000     0.0      0.0  0.000000       0.0        0.0  \n",
            "146  0.016064     0.0      0.0  0.000000       0.0        0.0  \n",
            "147  0.000000     0.0      0.0  0.014706       0.0        0.0  \n",
            "148  0.000000     0.0      0.0  0.000000       0.0        0.0  \n",
            "149  0.000000     0.0      0.0  0.000000       0.0        0.0  \n",
            "\n",
            "[150 rows x 143 columns]\n"
          ]
        }
      ],
      "source": [
        "#Data set 2 – Random Political News Data set\n",
        "# Tạo một Counter object để đếm tần suất xuất hiện của các token\n",
        "token_counter = Counter()\n",
        "\n",
        "# Đếm tần suất xuất hiện của các token trong toàn bộ dữ liệu\n",
        "for tokens in data1['Content_tokens']:\n",
        "    token_counter.update(tokens)\n",
        "\n",
        "# Chọn các token có tần suất xuất hiện lớn hơn 55\n",
        "selected_tokens = {token: count for token, count in token_counter.items() if count > 55}\n",
        "print(data1)\n",
        "\n",
        "# Tính giá trị TF cho mỗi token trong mỗi document\n",
        "for i, tokens in enumerate(data1['Content_tokens']):\n",
        "    tf_values = {token: tokens.count(token) / len(tokens) for token in selected_tokens.keys()}\n",
        "    # Tạo danh sách giá trị TF theo thứ tự của selected_tokens\n",
        "    tf_list = [tf_values[token] if token in tf_values else 0 for token in selected_tokens.keys()]\n",
        "    data1.at[i, 'Content_tokens'] = tf_list\n",
        "\n",
        "# In ra dữ liệu sau khi thay thế\n",
        "print(data1)\n",
        "\n",
        "# Tạo DataFrame từ dữ liệu TF\n",
        "dtm1 = pd.DataFrame(list(data1['Content_tokens']))\n",
        "\n",
        "# Đặt lại tên cột để thể hiện các term\n",
        "dtm1.columns = list(selected_tokens.keys())\n",
        "\n",
        "# In ra DTM\n",
        "print(dtm1)\n"
      ]
    },
    {
      "cell_type": "code",
      "execution_count": null,
      "metadata": {
        "id": "b8kshGyAJRkD"
      },
      "outputs": [],
      "source": [
        "X1 = dtm1.values\n",
        "y1 = data1['Label'].values\n",
        "y1 = y1.ravel()"
      ]
    },
    {
      "cell_type": "code",
      "execution_count": null,
      "metadata": {
        "id": "8GDJdgxUJ2Sv"
      },
      "outputs": [],
      "source": [
        "# normalize data\n",
        "scaler  = StandardScaler()\n",
        "X1 = scaler.fit_transform(X1)\n",
        "X_train1, X_test1, y_train1, y_test1 = model_selection.train_test_split(X1, y1, test_size=0.3, random_state=123)\n"
      ]
    },
    {
      "cell_type": "code",
      "execution_count": null,
      "metadata": {
        "colab": {
          "base_uri": "https://localhost:8080/"
        },
        "id": "VtATtOt42-YF",
        "outputId": "97f833f0-6114-4d08-b498-ec0775b112f3"
      },
      "outputs": [
        {
          "name": "stdout",
          "output_type": "stream",
          "text": [
            "Best parameters found:  {'alpha': 0.1, 'eta0': 1, 'learning_rate': 'invscaling', 'loss': 'log_loss', 'max_iter': 1000, 'penalty': 'l2'}\n"
          ]
        }
      ],
      "source": [
        "# Tối ưu thuật toán bằng cách dùng GridSearchCV để tìm ra tham số tối ưu\n",
        "sgd1 = SGDClassifier(random_state=42)\n",
        "\n",
        "# Định nghĩa các giá trị tham số để tìm kiếm\n",
        "param_grid = {\n",
        "    'loss': ['hinge', 'log_loss', 'modified_huber', 'squared_hinge', 'perceptron'],\n",
        "    'penalty': ['l2', 'l1', 'elasticnet'],\n",
        "    'alpha': [0.0001, 0.001, 0.01, 0.1, 1],\n",
        "    'max_iter': [1000, 2000, 3000],\n",
        "    'learning_rate': ['constant', 'optimal', 'invscaling', 'adaptive'],\n",
        "    'eta0': [0.01, 0.1, 1]  # Chỉ thêm eta0 với giá trị hợp lệ\n",
        "}\n",
        "\n",
        "# Khởi tạo GridSearchCV với 5-fold cross-validation\n",
        "grid_search1 = GridSearchCV(estimator=sgd1, param_grid=param_grid, cv=5, n_jobs=-1, scoring='f1', error_score=np.nan)\n",
        "\n",
        "# Huấn luyện GridSearchCV trên tập huấn luyện\n",
        "grid_search1.fit(X_train1, y_train1)\n",
        "\n",
        "# Lấy tham số tốt nhất\n",
        "best_params1 = grid_search1.best_params_\n",
        "print(\"Best parameters found: \", best_params1)"
      ]
    },
    {
      "cell_type": "code",
      "execution_count": null,
      "metadata": {
        "colab": {
          "base_uri": "https://localhost:8080/"
        },
        "id": "BuiDYxIucJ02",
        "outputId": "fc1fab59-82a3-4bf9-d6e9-9f91985866d5"
      },
      "outputs": [
        {
          "output_type": "stream",
          "name": "stdout",
          "text": [
            "Accuracy: 0.7555555555555555\n",
            "Precision: 0.7037037037037037\n",
            "Recall: 0.8636363636363636\n",
            "F1 Score: 0.7755102040816326\n"
          ]
        }
      ],
      "source": [
        "# Sử dụng các tham số tối ưu để khởi tạo lại mô hình SGD\n",
        "best_sgd1 = SGDClassifier(alpha= 0.1, eta0= 1, learning_rate= 'invscaling', loss= 'log_loss', max_iter=1000, penalty= 'l2', random_state=42)\n",
        "best_sgd1.fit(X_train1, y_train1)\n",
        "\n",
        "# Dự đoán trên tập kiểm tra\n",
        "y_pred_sgd1 = best_sgd1.predict(X_test1)\n",
        "\n",
        "# Đánh giá mô hình\n",
        "acc_sgd1 = accuracy_score(y_test1, y_pred_sgd1)\n",
        "precision_sgd1 = precision_score(y_test1, y_pred_sgd1)\n",
        "recall_sgd1 = recall_score(y_test1, y_pred_sgd1)\n",
        "f1_sgd1 = f1_score(y_test1, y_pred_sgd1)\n",
        "\n",
        "print(\"Accuracy:\", acc_sgd1)\n",
        "print(\"Precision:\", precision_sgd1)\n",
        "print(\"Recall:\", recall_sgd1)\n",
        "print(\"F1 Score:\", f1_sgd1)"
      ]
    },
    {
      "cell_type": "code",
      "execution_count": null,
      "metadata": {
        "colab": {
          "base_uri": "https://localhost:8080/"
        },
        "id": "UxzUWQWjMbUb",
        "outputId": "c7a9b6d7-fb03-486f-ffb9-bf2756f75538"
      },
      "outputs": [
        {
          "name": "stdout",
          "output_type": "stream",
          "text": [
            "Best parameters found:  {'criterion': 'gini', 'max_depth': None, 'max_features': None, 'min_samples_leaf': 4, 'min_samples_split': 10}\n"
          ]
        }
      ],
      "source": [
        "# Tạo mô hình Decision Tree Classifier\n",
        "clf1 = tree.DecisionTreeClassifier(random_state= 123)\n",
        "\n",
        "# Định nghĩa các giá trị tham số để tìm kiếm\n",
        "param_grid = {\n",
        "    'criterion': ['gini', 'entropy'],\n",
        "    'max_depth': [None, 10, 20, 30, 40, 50],\n",
        "    'min_samples_split': [2, 5, 10],\n",
        "    'min_samples_leaf': [1, 2, 4],\n",
        "    'max_features': [None, 'auto', 'sqrt', 'log2']\n",
        "}\n",
        "\n",
        "# Khởi tạo GridSearchCV với 5-fold cross-validation\n",
        "grid_search1 = GridSearchCV(estimator=clf1, param_grid=param_grid, cv=5, n_jobs=-1, scoring='f1', error_score=np.nan)\n",
        "\n",
        "# Huấn luyện GridSearchCV trên tập huấn luyện\n",
        "grid_search1.fit(X_train1, y_train1)\n",
        "\n",
        "# Lấy tham số tốt nhất\n",
        "best_params1 = grid_search1.best_params_\n",
        "print(\"Best parameters found: \", best_params1)"
      ]
    },
    {
      "cell_type": "code",
      "execution_count": null,
      "metadata": {
        "colab": {
          "base_uri": "https://localhost:8080/"
        },
        "id": "2sWYi1KBBAqh",
        "outputId": "35f6ad05-eacb-4f1f-dd0f-1a05111b3908"
      },
      "outputs": [
        {
          "output_type": "stream",
          "name": "stdout",
          "text": [
            "Accuracy: 0.6444444444444445\n",
            "Precision: 0.625\n",
            "Recall: 0.6818181818181818\n",
            "F1 Score: 0.6521739130434783\n"
          ]
        }
      ],
      "source": [
        "best_clf1 = tree.DecisionTreeClassifier(criterion= 'gini', max_depth= None, max_features=None, min_samples_leaf=4, min_samples_split= 10, random_state= 123)\n",
        "best_clf1.fit(X_train1, y_train1)\n",
        "\n",
        "# Dự đoán trên tập kiểm tra\n",
        "y_pred_tree1 = best_clf1.predict(X_test1)\n",
        "\n",
        "# Đánh giá mô hình\n",
        "acc_tree1 = accuracy_score(y_test1, y_pred_tree1)\n",
        "precision_tree1 = precision_score(y_test1, y_pred_tree1)\n",
        "recall_tree1 = recall_score(y_test1, y_pred_tree1)\n",
        "f1_tree1 = f1_score(y_test1, y_pred_tree1)\n",
        "\n",
        "# In ra các giá trị\n",
        "print(\"Accuracy:\", acc_tree1)\n",
        "print(\"Precision:\", precision_tree1)\n",
        "print(\"Recall:\", recall_tree1)\n",
        "print(\"F1 Score:\", f1_tree1)\n",
        "\n",
        "# Plot cây quyết định\n",
        "# from sklearn.tree import plot_tree\n",
        "# import matplotlib.pyplot as plt\n",
        "# plot_tree(best_clf)\n",
        "# plt.show()"
      ]
    },
    {
      "cell_type": "code",
      "execution_count": null,
      "metadata": {
        "colab": {
          "base_uri": "https://localhost:8080/"
        },
        "id": "KdfFPtjLVB4p",
        "outputId": "5dec12bf-9413-4e9b-eaec-c090b2ea84e5"
      },
      "outputs": [
        {
          "output_type": "stream",
          "name": "stdout",
          "text": [
            "Fitting 5 folds for each of 81 candidates, totalling 405 fits\n",
            "Best parameters found:  {'estimator__max_depth': None, 'estimator__min_samples_leaf': 1, 'estimator__min_samples_split': 2, 'n_estimators': 100}\n",
            "Best cross-validation score:  0.8095238095238095\n"
          ]
        }
      ],
      "source": [
        "# Tạo mô hình cây quyết định\n",
        "base_estimator = tree.DecisionTreeClassifier()\n",
        "\n",
        "# Tạo BaggingClassifier với tham số 'estimator'\n",
        "bagging = BaggingClassifier(estimator=base_estimator, random_state=123)\n",
        "\n",
        "# Định nghĩa lưới tham số cho GridSearchCV\n",
        "param_grid = {\n",
        "    'n_estimators': [10, 50, 100],\n",
        "    'estimator__max_depth': [None, 10, 20],\n",
        "    'estimator__min_samples_split': [2, 5, 10],\n",
        "    'estimator__min_samples_leaf': [1, 2, 4]\n",
        "}\n",
        "\n",
        "# Khởi tạo GridSearchCV\n",
        "grid_search = GridSearchCV(estimator=bagging, param_grid=param_grid, cv=5, n_jobs=-1, verbose=2)\n",
        "\n",
        "# Huấn luyện GridSearchCV\n",
        "grid_search.fit(X_train1, y_train1)\n",
        "\n",
        "# Kết quả tốt nhất\n",
        "best_params = grid_search.best_params_\n",
        "best_score = grid_search.best_score_\n",
        "\n",
        "# In kết quả\n",
        "print(\"Best parameters found: \", best_params)\n",
        "print(\"Best cross-validation score: \", best_score)\n"
      ]
    },
    {
      "cell_type": "code",
      "execution_count": null,
      "metadata": {
        "colab": {
          "base_uri": "https://localhost:8080/"
        },
        "id": "wX9NnMvmVuvk",
        "outputId": "2d3fc48f-0d5e-4e00-eba5-d9c9843fbef3"
      },
      "outputs": [
        {
          "output_type": "stream",
          "name": "stdout",
          "text": [
            "Accuracy: 0.7111111111111111\n",
            "Precision: 0.6956521739130435\n",
            "Recall: 0.7272727272727273\n",
            "F1 Score: 0.711111111111111\n"
          ]
        }
      ],
      "source": [
        "# Sử dụng mô hình tốt nhất để dự đoán trên tập kiểm tra\n",
        "best_bagging1 = grid_search.best_estimator_\n",
        "y_pred_bagging= best_bagging1.predict(X_test1)\n",
        "\n",
        "# Đánh giá mô hình\n",
        "acc_bagging1 = accuracy_score(y_test1, y_pred_bagging)\n",
        "precision_bagging1 = precision_score(y_test1, y_pred_bagging)\n",
        "recall_bagging1 = recall_score(y_test1, y_pred_bagging)\n",
        "f1_bagging1 = f1_score(y_test1, y_pred_bagging)\n",
        "\n",
        "# In ra các giá trị\n",
        "print(\"Accuracy:\", acc_bagging1)\n",
        "print(\"Precision:\", precision_bagging1)\n",
        "print(\"Recall:\", recall_bagging1)\n",
        "print(\"F1 Score:\", f1_bagging1)"
      ]
    },
    {
      "cell_type": "code",
      "execution_count": null,
      "metadata": {
        "colab": {
          "base_uri": "https://localhost:8080/"
        },
        "id": "bgcRouNjGeIo",
        "outputId": "8326bedd-5833-4722-b9d5-ec40faeb9760"
      },
      "outputs": [
        {
          "output_type": "stream",
          "name": "stdout",
          "text": [
            "       Label                                            Content  \\\n",
            "0          0   Donald Trump Sends Out Embarrassing New Year’...   \n",
            "1          0   Drunk Bragging Trump Staffer Started Russian ...   \n",
            "2          0   Sheriff David Clarke Becomes An Internet Joke...   \n",
            "3          0   Trump Is So Obsessed He Even Has Obama’s Name...   \n",
            "4          0   Pope Francis Just Called Out Donald Trump Dur...   \n",
            "...      ...                                                ...   \n",
            "44893      1  'Fully committed' NATO backs new U.S. approach...   \n",
            "44894      1  LexisNexis withdrew two products from Chinese ...   \n",
            "44895      1  Minsk cultural hub becomes haven from authorit...   \n",
            "44896      1  Vatican upbeat on possibility of Pope Francis ...   \n",
            "44897      1  Indonesia to buy $1.14 billion worth of Russia...   \n",
            "\n",
            "                                          Content_tokens  \n",
            "0      [0.01509433962264151, 0.03018867924528302, 0.0...  \n",
            "1      [0.0, 0.03783783783783784, 0.0, 0.0, 0.0108108...  \n",
            "2      [0.0030211480362537764, 0.0030211480362537764,...  \n",
            "3      [0.007692307692307693, 0.04230769230769231, 0....  \n",
            "4      [0.009302325581395349, 0.018604651162790697, 0...  \n",
            "...                                                  ...  \n",
            "44893  [0.003861003861003861, 0.023166023166023165, 0...  \n",
            "44894  [0.0, 0.0, 0.0, 0.0, 0.0, 0.024691358024691357...  \n",
            "44895  [0.0, 0.0, 0.0, 0.0, 0.00558659217877095, 0.01...  \n",
            "44896  [0.0, 0.0, 0.0, 0.0, 0.0, 0.008064516129032258...  \n",
            "44897  [0.0, 0.0, 0.0, 0.0, 0.007194244604316547, 0.0...  \n",
            "\n",
            "[44898 rows x 3 columns]\n",
            "         donald     trump      send  embarrass       new      year    messag  \\\n",
            "0      0.015094  0.030189  0.007547   0.003774  0.045283  0.071698  0.007547   \n",
            "1      0.000000  0.037838  0.000000   0.000000  0.010811  0.000000  0.000000   \n",
            "2      0.003021  0.003021  0.000000   0.000000  0.000000  0.003021  0.003021   \n",
            "3      0.007692  0.042308  0.000000   0.000000  0.000000  0.003846  0.015385   \n",
            "4      0.009302  0.018605  0.000000   0.000000  0.000000  0.000000  0.009302   \n",
            "...         ...       ...       ...        ...       ...       ...       ...   \n",
            "44893  0.003861  0.023166  0.003861   0.000000  0.015444  0.007722  0.000000   \n",
            "44894  0.000000  0.000000  0.000000   0.000000  0.000000  0.024691  0.000000   \n",
            "44895  0.000000  0.000000  0.000000   0.000000  0.005587  0.016760  0.000000   \n",
            "44896  0.000000  0.000000  0.000000   0.000000  0.000000  0.008065  0.000000   \n",
            "44897  0.000000  0.000000  0.000000   0.000000  0.007194  0.007194  0.000000   \n",
            "\n",
            "       american      leav   instead  ...   brussel  milit  islamist  kurdish  \\\n",
            "0      0.007547  0.003774  0.003774  ...  0.000000    0.0       0.0      0.0   \n",
            "1      0.010811  0.000000  0.000000  ...  0.000000    0.0       0.0      0.0   \n",
            "2      0.000000  0.000000  0.000000  ...  0.000000    0.0       0.0      0.0   \n",
            "3      0.000000  0.000000  0.000000  ...  0.000000    0.0       0.0      0.0   \n",
            "4      0.000000  0.013953  0.000000  ...  0.000000    0.0       0.0      0.0   \n",
            "...         ...       ...       ...  ...       ...    ...       ...      ...   \n",
            "44893  0.003861  0.000000  0.000000  ...  0.003861    0.0       0.0      0.0   \n",
            "44894  0.000000  0.000000  0.000000  ...  0.000000    0.0       0.0      0.0   \n",
            "44895  0.000000  0.000000  0.000000  ...  0.000000    0.0       0.0      0.0   \n",
            "44896  0.000000  0.000000  0.000000  ...  0.000000    0.0       0.0      0.0   \n",
            "44897  0.000000  0.000000  0.000000  ...  0.000000    0.0       0.0      0.0   \n",
            "\n",
            "       iraqi  provinc  pakistan  lebanon  myanmar  rohingya  \n",
            "0        0.0      0.0       0.0      0.0      0.0       0.0  \n",
            "1        0.0      0.0       0.0      0.0      0.0       0.0  \n",
            "2        0.0      0.0       0.0      0.0      0.0       0.0  \n",
            "3        0.0      0.0       0.0      0.0      0.0       0.0  \n",
            "4        0.0      0.0       0.0      0.0      0.0       0.0  \n",
            "...      ...      ...       ...      ...      ...       ...  \n",
            "44893    0.0      0.0       0.0      0.0      0.0       0.0  \n",
            "44894    0.0      0.0       0.0      0.0      0.0       0.0  \n",
            "44895    0.0      0.0       0.0      0.0      0.0       0.0  \n",
            "44896    0.0      0.0       0.0      0.0      0.0       0.0  \n",
            "44897    0.0      0.0       0.0      0.0      0.0       0.0  \n",
            "\n",
            "[44898 rows x 1406 columns]\n"
          ]
        }
      ],
      "source": [
        "#Dataset 3: ISOT Fake News Data set\n",
        "# Giả định `data` là DataFrame chứa các document và `Content_tokens` là cột chứa danh sách các token trong mỗi document\n",
        "\n",
        "# Tạo một Counter object để đếm tần suất xuất hiện của các token\n",
        "token_counter = Counter()\n",
        "\n",
        "# Đếm tần suất xuất hiện của các token trong toàn bộ dữ liệu\n",
        "for tokens in data2['Content_tokens']:\n",
        "    token_counter.update(tokens)\n",
        "\n",
        "# Chọn các token có tần suất xuất hiện lớn hơn 1500\n",
        "selected_tokens = {token: count for token, count in token_counter.items() if count > 1500}\n",
        "\n",
        "# Tính giá trị TF cho mỗi token trong mỗi document\n",
        "for i, tokens in enumerate(data2['Content_tokens']):\n",
        "    tf_values = {token: tokens.count(token) / len(tokens) for token in selected_tokens.keys()}\n",
        "    # Tạo danh sách giá trị TF theo thứ tự của selected_tokens\n",
        "    tf_list = [tf_values[token] if token in tf_values else 0 for token in selected_tokens.keys()]\n",
        "    data2.at[i, 'Content_tokens'] = tf_list\n",
        "\n",
        "# In ra dữ liệu sau khi thay thế\n",
        "print(data2)\n",
        "\n",
        "# Tạo DataFrame từ dữ liệu TF\n",
        "dtm2 = pd.DataFrame(list(data2['Content_tokens']))\n",
        "\n",
        "# Đặt lại tên cột để thể hiện các term\n",
        "dtm2.columns = list(selected_tokens.keys())\n",
        "\n",
        "# In ra DTM\n",
        "print(dtm2)"
      ]
    },
    {
      "cell_type": "code",
      "execution_count": null,
      "metadata": {
        "id": "ORTdaShUXpA9"
      },
      "outputs": [],
      "source": [
        "X2 = dtm2.values\n",
        "y2 = data2['Label'].values\n",
        "y2 = y2.ravel()"
      ]
    },
    {
      "cell_type": "code",
      "execution_count": null,
      "metadata": {
        "id": "rYn-iFhdXxg8"
      },
      "outputs": [],
      "source": [
        "# normalize data\n",
        "scaler  = StandardScaler()\n",
        "X2 = scaler.fit_transform(X2)\n",
        "X_train2, X_test2, y_train2, y_test2 = model_selection.train_test_split(X2, y2, test_size=0.3, random_state=123)"
      ]
    },
    {
      "cell_type": "code",
      "execution_count": null,
      "metadata": {
        "colab": {
          "base_uri": "https://localhost:8080/"
        },
        "id": "MUQ4ErR15TXZ",
        "outputId": "913461e1-4404-4985-8888-330af4f9e88c"
      },
      "outputs": [
        {
          "name": "stdout",
          "output_type": "stream",
          "text": [
            "Best parameters found:  {'eta0': 0.01, 'learning_rate': 'adaptive', 'loss': 'hinge'}\n"
          ]
        }
      ],
      "source": [
        "# Tối ưu thuật toán bằng cách dùng GridSearchCV để tìm ra tham số tối ưu\n",
        "sgd2 = SGDClassifier(random_state= 123)\n",
        "\n",
        "# Định nghĩa các giá trị tham số để tìm kiếm\n",
        "param_grid = {\n",
        "    'loss': ['hinge', 'modified_huber', 'perceptron'],\n",
        "    'learning_rate': ['constant', 'optimal','adaptive'],\n",
        "    'eta0': [0.01, 0.1, 1]  # Chỉ thêm eta0 với giá trị hợp lệ\n",
        "}\n",
        "\n",
        "# Khởi tạo GridSearchCV với 5-fold cross-validation\n",
        "grid_search2 = GridSearchCV(estimator=sgd2, param_grid=param_grid, cv=5, n_jobs=-1, scoring='f1', error_score=np.nan)\n",
        "\n",
        "# Huấn luyện GridSearchCV trên tập huấn luyện\n",
        "grid_search2.fit(X_train2, y_train2)\n",
        "\n",
        "# Lấy tham số tốt nhất\n",
        "best_params2 = grid_search2.best_params_\n",
        "print(\"Best parameters found: \", best_params2)"
      ]
    },
    {
      "cell_type": "code",
      "execution_count": null,
      "metadata": {
        "colab": {
          "base_uri": "https://localhost:8080/"
        },
        "id": "99C5Gu0ad7o_",
        "outputId": "9bc984d5-45d6-476a-cd59-f015ed0053e6"
      },
      "outputs": [
        {
          "output_type": "stream",
          "name": "stdout",
          "text": [
            "Accuracy: 0.9872308834446919\n",
            "Precision: 0.9877582249426167\n",
            "Recall: 0.9859477623338934\n",
            "F1 Score: 0.9868521632777862\n"
          ]
        }
      ],
      "source": [
        "# Sử dụng các tham số tối ưu để khởi tạo lại mô hình SGD\n",
        "best_sgd2 = SGDClassifier(eta0= 0.01, learning_rate= 'adaptive', loss= 'hinge', random_state= 42)\n",
        "best_sgd2.fit(X_train2, y_train2)\n",
        "\n",
        "# Dự đoán trên tập kiểm tra\n",
        "y_pred_sgd2 = best_sgd2.predict(X_test2)\n",
        "\n",
        "# Đánh giá mô hình\n",
        "acc_sgd2 = accuracy_score(y_test2, y_pred_sgd2)\n",
        "precision_sgd2 = precision_score(y_test2, y_pred_sgd2)\n",
        "recall_sgd2 = recall_score(y_test2, y_pred_sgd2)\n",
        "f1_sgd2 = f1_score(y_test2, y_pred_sgd2)\n",
        "\n",
        "print(\"Accuracy:\", acc_sgd2)\n",
        "print(\"Precision:\", precision_sgd2)\n",
        "print(\"Recall:\", recall_sgd2)\n",
        "print(\"F1 Score:\", f1_sgd2)"
      ]
    },
    {
      "cell_type": "code",
      "execution_count": null,
      "metadata": {
        "colab": {
          "base_uri": "https://localhost:8080/"
        },
        "id": "FJrpvp6nQcEn",
        "outputId": "ddfc45b4-ef87-45fe-9732-82b4d056eda4"
      },
      "outputs": [
        {
          "name": "stdout",
          "output_type": "stream",
          "text": [
            "Best parameters found:  {'criterion': 'gini', 'max_features': None, 'min_samples_leaf': 1}\n"
          ]
        }
      ],
      "source": [
        "# Tạo mô hình Decision Tree Classifier\n",
        "clf2 = tree.DecisionTreeClassifier(random_state= 42)\n",
        "\n",
        "# Định nghĩa các giá trị tham số để tìm kiếm\n",
        "param_grid = {\n",
        "    'criterion': ['gini', 'entropy'],\n",
        "    'min_samples_leaf': [1, 2, 4],\n",
        "    'max_features': [None, 'auto', 'sqrt', 'log2']\n",
        "}\n",
        "\n",
        "# Khởi tạo GridSearchCV với 5-fold cross-validation\n",
        "grid_search2 = GridSearchCV(estimator=clf2, param_grid=param_grid, cv=5, n_jobs=-1, scoring='f1', error_score=np.nan)\n",
        "\n",
        "# Huấn luyện GridSearchCV trên tập huấn luyện\n",
        "grid_search2.fit(X_train2, y_train2)\n",
        "\n",
        "# Lấy tham số tốt nhất\n",
        "best_params2 = grid_search2.best_params_\n",
        "print(\"Best parameters found: \", best_params2)"
      ]
    },
    {
      "cell_type": "code",
      "execution_count": null,
      "metadata": {
        "colab": {
          "base_uri": "https://localhost:8080/"
        },
        "id": "O4Hea1hdX5CQ",
        "outputId": "e76313ab-0192-43ac-f8a3-03d74f5efa4f"
      },
      "outputs": [
        {
          "output_type": "stream",
          "name": "stdout",
          "text": [
            "Accuracy: 0.9956941351150705\n",
            "Precision: 0.9967845659163987\n",
            "Recall: 0.9943485565908049\n",
            "F1 Score: 0.9955650711117909\n"
          ]
        }
      ],
      "source": [
        "best_clf2 = tree.DecisionTreeClassifier(criterion= 'gini',max_features=None, min_samples_leaf=1, random_state= 42)\n",
        "best_clf2.fit(X_train2, y_train2)\n",
        "\n",
        "# Dự đoán trên tập kiểm tra\n",
        "y_pred_tree2 = best_clf2.predict(X_test2)\n",
        "\n",
        "# Đánh giá mô hình\n",
        "acc_tree2 = accuracy_score(y_test2, y_pred_tree2)\n",
        "precision_tree2 = precision_score(y_test2, y_pred_tree2)\n",
        "recall_tree2 = recall_score(y_test2, y_pred_tree2)\n",
        "f1_tree2 = f1_score(y_test2, y_pred_tree2)\n",
        "\n",
        "# In ra các giá trị\n",
        "print(\"Accuracy:\", acc_tree2)\n",
        "print(\"Precision:\", precision_tree2)\n",
        "print(\"Recall:\", recall_tree2)\n",
        "print(\"F1 Score:\", f1_tree2)\n",
        "\n",
        "# Plot cây quyết định\n",
        "# from sklearn.tree import plot_tree\n",
        "# import matplotlib.pyplot as plt\n",
        "# plot_tree(best_clf)\n",
        "# plt.show()"
      ]
    },
    {
      "cell_type": "code",
      "execution_count": null,
      "metadata": {
        "colab": {
          "base_uri": "https://localhost:8080/"
        },
        "id": "oaFgrubBWOS1",
        "outputId": "4bea3c39-de9a-483e-b65c-4ec6a514256a"
      },
      "outputs": [
        {
          "output_type": "stream",
          "name": "stdout",
          "text": [
            "Fitting 3 folds for each of 81 candidates, totalling 243 fits\n",
            "Best parameters found:  {'estimator__max_depth': None, 'estimator__min_samples_leaf': 2, 'estimator__min_samples_split': 2, 'n_estimators': 50}\n",
            "Best cross-validation score:  0.9920443968104679\n"
          ]
        }
      ],
      "source": [
        "# Giảm kích thước dữ liệu bằng cách lấy mẫu ngẫu nhiên từ tập huấn luyện\n",
        "sample_fraction = 0.1  # Sử dụng 10% dữ liệu\n",
        "X_train_sampled, _, y_train_sampled, _ = train_test_split(X_train2, y_train2, train_size=sample_fraction, random_state=123)\n",
        "\n",
        "# Tạo mô hình cây quyết định\n",
        "base_estimator = tree.DecisionTreeClassifier(random_state=123)\n",
        "\n",
        "# Tạo BaggingClassifier với tham số 'base_estimator'\n",
        "bagging = BaggingClassifier(estimator=base_estimator, random_state=123)\n",
        "\n",
        "# Định nghĩa lưới tham số cho GridSearchCV\n",
        "param_grid = {\n",
        "    'n_estimators': [10, 50, 100],\n",
        "    'estimator__max_depth': [None, 10, 20],\n",
        "    'estimator__min_samples_split': [2, 5, 10],\n",
        "    'estimator__min_samples_leaf': [1, 2, 4]\n",
        "}\n",
        "\n",
        "# Khởi tạo GridSearchCV\n",
        "grid_search = GridSearchCV(estimator=bagging, param_grid=param_grid, cv=3, n_jobs=-1, verbose=2)\n",
        "\n",
        "# Huấn luyện GridSearchCV trên dữ liệu mẫu\n",
        "grid_search.fit(X_train_sampled, y_train_sampled)\n",
        "\n",
        "# Kết quả tốt nhất\n",
        "best_params = grid_search.best_params_\n",
        "best_score = grid_search.best_score_\n",
        "\n",
        "# In kết quả\n",
        "print(\"Best parameters found: \", best_params)\n",
        "print(\"Best cross-validation score: \", best_score)"
      ]
    },
    {
      "cell_type": "code",
      "execution_count": null,
      "metadata": {
        "colab": {
          "base_uri": "https://localhost:8080/"
        },
        "id": "eXpTSrqbWdVG",
        "outputId": "c5e591e5-b769-4a14-f74e-7349819f3646"
      },
      "outputs": [
        {
          "output_type": "stream",
          "name": "stdout",
          "text": [
            "Accuracy: 0.9936896807720861\n",
            "Precision: 0.9913321167883211\n",
            "Recall: 0.9957232320146632\n",
            "F1 Score: 0.9935228225253372\n"
          ]
        }
      ],
      "source": [
        "# Sử dụng mô hình tốt nhất để dự đoán trên tập kiểm tra\n",
        "best_model2 = grid_search.best_estimator_\n",
        "y_pred_bagging= best_model2.predict(X_test2)\n",
        "\n",
        "# Đánh giá mô hình\n",
        "acc_bagging2 = accuracy_score(y_test2, y_pred_bagging)\n",
        "precision_bagging2 = precision_score(y_test2, y_pred_bagging)\n",
        "recall_bagging2 = recall_score(y_test2, y_pred_bagging)\n",
        "f1_bagging2 = f1_score(y_test2, y_pred_bagging)\n",
        "\n",
        "# In ra các giá trị\n",
        "print(\"Accuracy:\", acc_bagging2)\n",
        "print(\"Precision:\", precision_bagging2)\n",
        "print(\"Recall:\", recall_bagging2)\n",
        "print(\"F1 Score:\", f1_bagging2)"
      ]
    },
    {
      "cell_type": "code",
      "execution_count": null,
      "metadata": {
        "colab": {
          "base_uri": "https://localhost:8080/"
        },
        "id": "RlTyavyNg6eD",
        "outputId": "5722bb88-55df-4af4-96f7-ad64292f6395"
      },
      "outputs": [
        {
          "output_type": "stream",
          "name": "stdout",
          "text": [
            "Cross-validated accuracy Tree: 0.9950998835411292\n",
            "Cross-validated accuracy SGD: 0.9852361285234125\n"
          ]
        }
      ],
      "source": [
        "#Sử dụng cross validation để kiểm tra model\n",
        "from sklearn.model_selection import cross_val_score\n",
        "\n",
        "clf = tree.DecisionTreeClassifier(criterion= 'gini',max_features=None, min_samples_leaf=1, random_state= 42)\n",
        "scores = cross_val_score(clf, X_train2, y_train2, cv=5, scoring='accuracy')\n",
        "print(\"Cross-validated accuracy Tree:\", scores.mean())\n",
        "\n",
        "best_sgd2 = SGDClassifier(eta0= 0.01, learning_rate= 'adaptive', loss= 'perceptron', random_state= 42)\n",
        "scores_sgd = cross_val_score(best_sgd2, X_train2, y_train2, cv=5, scoring='accuracy')\n",
        "print(\"Cross-validated accuracy SGD:\", scores_sgd.mean())\n",
        "\n"
      ]
    },
    {
      "cell_type": "code",
      "source": [
        "from sklearn.model_selection import cross_validate\n",
        "from sklearn.metrics import make_scorer\n",
        "\n",
        "# Định nghĩa các scorers\n",
        "scoring = {\n",
        "    'accuracy': 'accuracy',\n",
        "    'precision': make_scorer(precision_score),\n",
        "    'recall': make_scorer(recall_score),\n",
        "    'f1': make_scorer(f1_score)\n",
        "}\n",
        "\n",
        "# Sử dụng cross-validation để đánh giá mô hình\n",
        "cv_results = cross_validate(best_model2, X_test2, y_test2, cv=5, scoring='accuracy', n_jobs=-1)\n",
        "\n",
        "# Tính toán giá trị trung bình của accuracy và in kết quả\n",
        "mean_accuracy = cv_results['test_score'].mean()\n",
        "print(\"Cross-validated accuracy:\", mean_accuracy)\n",
        "\n"
      ],
      "metadata": {
        "colab": {
          "base_uri": "https://localhost:8080/"
        },
        "id": "7G6Njs2E0f-K",
        "outputId": "5d6e27ba-8e4e-4e77-8c6f-58b0e5b935e2"
      },
      "execution_count": null,
      "outputs": [
        {
          "output_type": "stream",
          "name": "stdout",
          "text": [
            "Cross-validated accuracy: 0.9951002227171493\n"
          ]
        }
      ]
    },
    {
      "cell_type": "code",
      "source": [
        "data = {\n",
        "    'Model': ['SGD', 'Decision Tree', 'Bagging'],\n",
        "    'Precision': [precision_sgd, precision_tree, precision_bagging],\n",
        "    'Recall': [recall_sgd, recall_tree, recall_bagging],\n",
        "    'F1-score': [f1_sgd, f1_tree, f1_bagging],\n",
        "    'Accuracy': [acc_sgd, acc_tree, acc_bagging]\n",
        "}\n",
        "\n",
        "# Tạo DataFrame\n",
        "df = pd.DataFrame(data)\n",
        "\n",
        "# Thiết lập vị trí các thanh\n",
        "x = np.arange(len(df['Model']))\n",
        "width = 0.2  # Độ rộng của các thanh\n",
        "\n",
        "# Tạo biểu đồ\n",
        "fig, ax = plt.subplots(figsize=(10, 6))\n",
        "\n",
        "# Vẽ các thanh cho từng chỉ số\n",
        "rects1 = ax.bar(x - 1.5*width, df['Precision'], width, label='Precision')\n",
        "rects2 = ax.bar(x - 0.5*width, df['Recall'], width, label='Recall')\n",
        "rects3 = ax.bar(x + 0.5*width, df['F1-score'], width, label='F1-score')\n",
        "rects4 = ax.bar(x + 1.5*width, df['Accuracy'], width, label='Accuracy')\n",
        "\n",
        "# Thêm các chi tiết khác cho biểu đồ\n",
        "ax.set_xlabel('Models')\n",
        "ax.set_ylabel('Scores')\n",
        "ax.set_title('Hiệu suất của các thuật toán trên tập dữ liệu Buzzfeed Political News')\n",
        "ax.set_xticks(x)\n",
        "ax.set_xticklabels(df['Model'])\n",
        "ax.legend()\n",
        "\n",
        "# Hiển thị biểu đồ\n",
        "plt.tight_layout()\n",
        "plt.show()"
      ],
      "metadata": {
        "id": "_IVUWkGV1tbA",
        "colab": {
          "base_uri": "https://localhost:8080/",
          "height": 607
        },
        "outputId": "b2373b1f-4945-4233-ef50-83e714a91ba7"
      },
      "execution_count": null,
      "outputs": [
        {
          "output_type": "display_data",
          "data": {
            "text/plain": [
              "<Figure size 1000x600 with 1 Axes>"
            ],
            "image/png": "[encoded data removed]"
          },
          "metadata": {}
        }
      ]
    },
    {
      "cell_type": "code",
      "source": [
        "data = {\n",
        "    'Model': ['SGD', 'Decision Tree', 'Bagging'],\n",
        "    'Precision': [precision_sgd1, precision_tree1, precision_bagging1],\n",
        "    'Recall': [recall_sgd1, recall_tree1, recall_bagging1],\n",
        "    'F1-score': [f1_sgd1, f1_tree1, f1_bagging1],\n",
        "    'Accuracy': [acc_sgd1, acc_tree1, acc_bagging1]\n",
        "}\n",
        "\n",
        "# Tạo DataFrame\n",
        "df = pd.DataFrame(data)\n",
        "\n",
        "# Thiết lập vị trí các thanh\n",
        "x = np.arange(len(df['Model']))\n",
        "width = 0.2  # Độ rộng của các thanh\n",
        "\n",
        "# Tạo biểu đồ\n",
        "fig, ax = plt.subplots(figsize=(10, 6))\n",
        "\n",
        "# Vẽ các thanh cho từng chỉ số\n",
        "rects1 = ax.bar(x - 1.5*width, df['Precision'], width, label='Precision')\n",
        "rects2 = ax.bar(x - 0.5*width, df['Recall'], width, label='Recall')\n",
        "rects3 = ax.bar(x + 0.5*width, df['F1-score'], width, label='F1-score')\n",
        "rects4 = ax.bar(x + 1.5*width, df['Accuracy'], width, label='Accuracy')\n",
        "\n",
        "# Thêm các chi tiết khác cho biểu đồ\n",
        "ax.set_xlabel('Models')\n",
        "ax.set_ylabel('Scores')\n",
        "ax.set_title('Hiệu suất của các thuật toán trên tập dữ liệu Random Political News')\n",
        "ax.set_xticks(x)\n",
        "ax.set_xticklabels(df['Model'])\n",
        "ax.legend()\n",
        "\n",
        "# Hiển thị biểu đồ\n",
        "plt.tight_layout()\n",
        "plt.show()"
      ],
      "metadata": {
        "id": "3EJuhL1w19ae",
        "colab": {
          "base_uri": "https://localhost:8080/",
          "height": 607
        },
        "outputId": "4ab9b3f7-589b-488c-a14b-a64f75e9c10f"
      },
      "execution_count": null,
      "outputs": [
        {
          "output_type": "display_data",
          "data": {
            "text/plain": [
              "<Figure size 1000x600 with 1 Axes>"
            ],
            "image/png": "[encoded data removed]"
          },
          "metadata": {}
        }
      ]
    },
    {
      "cell_type": "code",
      "source": [
        "data = {\n",
        "    'Model': ['SGD', 'Decision Tree', 'Bagging'],\n",
        "    'Precision': [precision_sgd2, precision_tree2, precision_bagging2],\n",
        "    'Recall': [recall_sgd2, recall_tree2, recall_bagging2],\n",
        "    'F1-score': [f1_sgd2, f1_tree2, f1_bagging2],\n",
        "    'Accuracy': [acc_sgd2, acc_tree2, acc_bagging2]\n",
        "}\n",
        "\n",
        "# Tạo DataFrame\n",
        "df = pd.DataFrame(data)\n",
        "\n",
        "# Thiết lập vị trí các thanh\n",
        "x = np.arange(len(df['Model']))\n",
        "width = 0.2  # Độ rộng của các thanh\n",
        "\n",
        "# Tạo biểu đồ\n",
        "fig, ax = plt.subplots(figsize=(10, 6))\n",
        "\n",
        "# Vẽ các thanh cho từng chỉ số\n",
        "rects1 = ax.bar(x - 1.5*width, df['Precision'], width, label='Precision')\n",
        "rects2 = ax.bar(x - 0.5*width, df['Recall'], width, label='Recall')\n",
        "rects3 = ax.bar(x + 0.5*width, df['F1-score'], width, label='F1-score')\n",
        "rects4 = ax.bar(x + 1.5*width, df['Accuracy'], width, label='Accuracy')\n",
        "\n",
        "# Thêm các chi tiết khác cho biểu đồ\n",
        "ax.set_xlabel('Models')\n",
        "ax.set_ylabel('Scores')\n",
        "ax.set_title('Hiệu suất của các thuật toán trên tập dữ liệu')\n",
        "ax.set_xticks(x)\n",
        "ax.set_xticklabels(df['Model'])\n",
        "ax.legend()\n",
        "\n",
        "# Hiển thị biểu đồ\n",
        "plt.tight_layout()\n",
        "plt.show()"
      ],
      "metadata": {
        "id": "Im1vj49H1lq3",
        "colab": {
          "base_uri": "https://localhost:8080/",
          "height": 607
        },
        "outputId": "87d970e6-5cda-4e1c-f2a1-bfa4e01fcf6b"
      },
      "execution_count": null,
      "outputs": [
        {
          "output_type": "display_data",
          "data": {
            "text/plain": [
              "<Figure size 1000x600 with 1 Axes>"
            ],
            "image/png": "[encoded data removed]"
          },
          "metadata": {}
        }
      ]
    },
    {
      "cell_type": "code",
      "source": [
        "# Dữ liệu từ bảng 3.5 - BuzzFeed Political News\n",
        "data_buzzfeed = {\n",
        "    'Classifier': ['Decision Tree', 'Stochastic Gradient Descent', 'Bagging'],\n",
        "    'Accuracy': [0.645, 0.742, 0.645],\n",
        "    'Precision': [0.688, 0.737, 0.688],\n",
        "    'Recall': [0.647, 0.824, 0.647],\n",
        "    'F1 Score': [0.667, 0.789, 0.667]\n",
        "}\n",
        "\n",
        "# Dữ liệu từ bảng 3.6 - Random Political News\n",
        "data_random = {\n",
        "    'Classifier': ['Decision Tree', 'Stochastic Gradient Descent', 'Bagging'],\n",
        "    'Accuracy': [0.644, 0.755, 0.711],\n",
        "    'Precision': [0.625, 0.704, 0.696],\n",
        "    'Recall': [0.681, 0.864, 0.727],\n",
        "    'F1 Score': [0.652, 0.776, 0.711]\n",
        "}\n",
        "\n",
        "# Dữ liệu từ bảng 3.7 - tập dữ liệu thứ ba\n",
        "data_third = {\n",
        "    'Classifier': ['Decision Tree', 'Stochastic Gradient Descent', 'Bagging'],\n",
        "    'Accuracy': [0.996, 0.987, 0.994],\n",
        "    'Precision': [0.997, 0.988, 0.991],\n",
        "    'Recall': [0.994, 0.986, 0.996],\n",
        "    'F1 Score': [0.996, 0.987, 0.993]\n",
        "}\n",
        "\n",
        "# Tạo DataFrame cho mỗi bảng\n",
        "df_buzzfeed = pd.DataFrame(data_buzzfeed)\n",
        "df_random = pd.DataFrame(data_random)\n",
        "df_third = pd.DataFrame(data_third)\n",
        "\n",
        "# Tính trung bình của các chỉ số hiệu suất cho mỗi bộ phân loại\n",
        "df_mean = (df_buzzfeed.set_index('Classifier') + df_random.set_index('Classifier') + df_third.set_index('Classifier')) / 3\n",
        "\n",
        "# In kết quả\n",
        "print(df_mean.reset_index())\n",
        "\n",
        "# Vẽ biểu đồ\n",
        "classifiers = df_mean.index\n",
        "precision_means = df_mean['Precision']\n",
        "recall_means = df_mean['Recall']\n",
        "f1_means = df_mean['F1 Score']\n",
        "accuracy_means = df_mean['Accuracy']\n",
        "\n",
        "plt.figure(figsize=(12, 6))\n",
        "plt.plot(classifiers, precision_means, label='Trung bình Precision', marker='o')\n",
        "plt.plot(classifiers, recall_means, label='Trung bình Recall', marker='o')\n",
        "plt.plot(classifiers, f1_means, label='Trung bình F1 Score', marker='o')\n",
        "plt.plot(classifiers, accuracy_means, label='Trung bình Accuracy', marker='o')\n",
        "\n",
        "plt.xlabel('Classifier')\n",
        "plt.ylabel('Scores')\n",
        "plt.title('Hiệu Suất Trung Bình')\n",
        "plt.legend()\n",
        "plt.grid(True)\n",
        "plt.xticks(rotation=0)  # Xoay nhãn theo chiều dọc\n",
        "plt.tight_layout()\n",
        "\n",
        "# Hiển thị biểu đồ\n",
        "plt.show()"
      ],
      "metadata": {
        "colab": {
          "base_uri": "https://localhost:8080/",
          "height": 660
        },
        "id": "L37_DNQnFAmw",
        "outputId": "19cbd449-0858-4f00-fbb1-1909d4280560"
      },
      "execution_count": null,
      "outputs": [
        {
          "output_type": "stream",
          "name": "stdout",
          "text": [
            "                    Classifier  Accuracy  Precision    Recall  F1 Score\n",
            "0                Decision Tree  0.761667   0.770000  0.774000  0.771667\n",
            "1  Stochastic Gradient Descent  0.828000   0.809667  0.891333  0.850667\n",
            "2                      Bagging  0.783333   0.791667  0.790000  0.790333\n"
          ]
        },
        {
          "output_type": "display_data",
          "data": {
            "text/plain": [
              "<Figure size 1200x600 with 1 Axes>"
            ],
            "image/png": "[encoded data removed]"
          },
          "metadata": {}
        }
      ]
    }
  ],
  "metadata": {
    "colab": {
      "provenance": [],
      "gpuType": "T4",
      "authorship_tag": "ABX9TyPWSZsMh5D3or3oulcpwqYh",
      "include_colab_link": true
    },
    "kernelspec": {
      "display_name": "Python 3",
      "name": "python3"
    },
    "language_info": {
      "name": "python"
    },
    "accelerator": "GPU"
  },
  "nbformat": 4,
  "nbformat_minor": 0
}